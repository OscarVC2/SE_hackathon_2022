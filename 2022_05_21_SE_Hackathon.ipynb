{
  "cells": [
    {
      "cell_type": "markdown",
      "metadata": {
        "id": "view-in-github",
        "colab_type": "text"
      },
      "source": [
        "<a href=\"https://colab.research.google.com/github/OscarVC2/SE_hackathon_2022/blob/main/2022_05_21_SE_Hackathon.ipynb\" target=\"_parent\"><img src=\"https://colab.research.google.com/assets/colab-badge.svg\" alt=\"Open In Colab\"/></a>"
      ]
    },
    {
      "cell_type": "code",
      "execution_count": 4,
      "metadata": {
        "cell_id": "9ef852522cfd4533a7dd50a1738cb702",
        "deepnote_cell_height": 755,
        "deepnote_cell_type": "code",
        "deepnote_to_be_reexecuted": false,
        "execution_millis": 2503,
        "execution_start": 1653127146043,
        "source_hash": "8548d454",
        "tags": [],
        "id": "ntlt1aTPMvpt",
        "colab": {
          "base_uri": "https://localhost:8080/"
        },
        "outputId": "4c61cb8c-3dcc-47ca-a503-4a52bdaf2aa8"
      },
      "outputs": [
        {
          "output_type": "stream",
          "name": "stdout",
          "text": [
            "--2022-06-11 06:05:44--  https://challenges-asset-files.s3.us-east-2.amazonaws.com/data_sets/Data-Science/4+-+events/SchneiderElectricES22/final/train1.csv\n",
            "Resolving challenges-asset-files.s3.us-east-2.amazonaws.com (challenges-asset-files.s3.us-east-2.amazonaws.com)... 52.219.92.122\n",
            "Connecting to challenges-asset-files.s3.us-east-2.amazonaws.com (challenges-asset-files.s3.us-east-2.amazonaws.com)|52.219.92.122|:443... connected.\n",
            "HTTP request sent, awaiting response... 200 OK\n",
            "Length: 8153873 (7.8M) [text/csv]\n",
            "Saving to: ‘train1.csv’\n",
            "\n",
            "train1.csv          100%[===================>]   7.78M  31.4MB/s    in 0.2s    \n",
            "\n",
            "2022-06-11 06:05:45 (31.4 MB/s) - ‘train1.csv’ saved [8153873/8153873]\n",
            "\n",
            "--2022-06-11 06:05:45--  https://challenges-asset-files.s3.us-east-2.amazonaws.com/data_sets/Data-Science/4+-+events/SchneiderElectricES22/final/train2.csv\n",
            "Resolving challenges-asset-files.s3.us-east-2.amazonaws.com (challenges-asset-files.s3.us-east-2.amazonaws.com)... 52.219.92.122\n",
            "Connecting to challenges-asset-files.s3.us-east-2.amazonaws.com (challenges-asset-files.s3.us-east-2.amazonaws.com)|52.219.92.122|:443... connected.\n",
            "HTTP request sent, awaiting response... 200 OK\n",
            "Length: 8142495 (7.8M) [text/csv]\n",
            "Saving to: ‘train2.csv’\n",
            "\n",
            "train2.csv          100%[===================>]   7.76M  30.5MB/s    in 0.3s    \n",
            "\n",
            "2022-06-11 06:05:46 (30.5 MB/s) - ‘train2.csv’ saved [8142495/8142495]\n",
            "\n",
            "--2022-06-11 06:05:46--  https://challenges-asset-files.s3.us-east-2.amazonaws.com/data_sets/Data-Science/4+-+events/SchneiderElectricES22/final/train6.zip\n",
            "Resolving challenges-asset-files.s3.us-east-2.amazonaws.com (challenges-asset-files.s3.us-east-2.amazonaws.com)... 52.219.92.122\n",
            "Connecting to challenges-asset-files.s3.us-east-2.amazonaws.com (challenges-asset-files.s3.us-east-2.amazonaws.com)|52.219.92.122|:443... connected.\n",
            "HTTP request sent, awaiting response... 200 OK\n",
            "Length: 8091011 (7.7M) [application/zip]\n",
            "Saving to: ‘train6.zip’\n",
            "\n",
            "train6.zip          100%[===================>]   7.72M  29.5MB/s    in 0.3s    \n",
            "\n",
            "2022-06-11 06:05:46 (29.5 MB/s) - ‘train6.zip’ saved [8091011/8091011]\n",
            "\n",
            "Archive:  train6.zip\n",
            "   creating: train6/\n",
            "  inflating: train6/pdfs81536.pdf    \n",
            "  inflating: train6/pdfs81522.pdf    \n",
            "  inflating: train6/pdfs81523.pdf    \n",
            "  inflating: train6/pdfs81537.pdf    \n",
            "  inflating: train6/pdfs81521.pdf    \n",
            "  inflating: train6/pdfs81535.pdf    \n",
            "  inflating: train6/pdfs81534.pdf    \n",
            "  inflating: train6/pdfs81520.pdf    \n",
            "  inflating: train6/pdfs81518.pdf    \n",
            "  inflating: train6/pdfs81524.pdf    \n",
            "  inflating: train6/pdfs81530.pdf    \n",
            "  inflating: train6/pdfs81531.pdf    \n",
            "  inflating: train6/pdfs81525.pdf    \n",
            "  inflating: train6/pdfs81519.pdf    \n",
            "  inflating: train6/pdfs81533.pdf    \n",
            "  inflating: train6/pdfs81527.pdf    \n",
            "  inflating: train6/pdfs81526.pdf    \n",
            "  inflating: train6/pdfs81532.pdf    \n",
            "  inflating: train6/pdfs81596.pdf    \n",
            "  inflating: train6/pdfs81582.pdf    \n",
            "  inflating: train6/pdfs81555.pdf    \n",
            "  inflating: train6/pdfs81541.pdf    \n",
            "  inflating: train6/pdfs81569.pdf    \n",
            "  inflating: train6/pdfs81568.pdf    \n",
            "  inflating: train6/pdfs81540.pdf    \n",
            "  inflating: train6/pdfs81554.pdf    \n",
            "  inflating: train6/pdfs81583.pdf    \n",
            "  inflating: train6/pdfs81581.pdf    \n",
            "  inflating: train6/pdfs81595.pdf    \n",
            "  inflating: train6/pdfs81542.pdf    \n",
            "  inflating: train6/pdfs81556.pdf    \n",
            "  inflating: train6/pdfs81557.pdf    \n",
            "  inflating: train6/pdfs81543.pdf    \n",
            "  inflating: train6/pdfs81594.pdf    \n",
            "  inflating: train6/pdfs81580.pdf    \n",
            "  inflating: train6/pdfs81584.pdf    \n",
            "  inflating: train6/pdfs81590.pdf    \n",
            "  inflating: train6/pdfs81547.pdf    \n",
            "  inflating: train6/pdfs81553.pdf    \n",
            "  inflating: train6/pdfs81552.pdf    \n",
            "  inflating: train6/pdfs81546.pdf    \n",
            "  inflating: train6/pdfs81591.pdf    \n",
            "  inflating: train6/pdfs81585.pdf    \n",
            "  inflating: train6/pdfs81593.pdf    \n",
            "  inflating: train6/pdfs81587.pdf    \n",
            "  inflating: train6/pdfs81578.pdf    \n",
            "  inflating: train6/pdfs81550.pdf    \n",
            "  inflating: train6/pdfs81544.pdf    \n",
            "  inflating: train6/pdfs81545.pdf    \n",
            "  inflating: train6/pdfs81551.pdf    \n",
            "  inflating: train6/pdfs81579.pdf    \n",
            "  inflating: train6/pdfs81586.pdf    \n",
            "  inflating: train6/pdfs81592.pdf    \n",
            "  inflating: train6/pdfs81574.pdf    \n",
            "  inflating: train6/pdfs81560.pdf    \n",
            "  inflating: train6/pdfs81548.pdf    \n",
            "  inflating: train6/pdfs81549.pdf    \n",
            "  inflating: train6/pdfs81561.pdf    \n",
            "  inflating: train6/pdfs81575.pdf    \n",
            "  inflating: train6/pdfs81588.pdf    \n",
            "  inflating: train6/pdfs81563.pdf    \n",
            "  inflating: train6/pdfs81577.pdf    \n",
            "  inflating: train6/pdfs81576.pdf    \n",
            "  inflating: train6/pdfs81562.pdf    \n",
            "  inflating: train6/pdfs81589.pdf    \n",
            "  inflating: train6/pdfs-1.pdf       \n",
            "  inflating: train6/pdfs81566.pdf    \n",
            "  inflating: train6/pdfs81572.pdf    \n",
            "  inflating: train6/pdfs81573.pdf    \n",
            "  inflating: train6/pdfs81567.pdf    \n",
            "  inflating: train6/pdfs81559.pdf    \n",
            "  inflating: train6/pdfs81571.pdf    \n",
            "  inflating: train6/pdfs81564.pdf    \n",
            "  inflating: train6/pdfs81570.pdf    \n",
            "  inflating: train6/pdfs81558.pdf    \n",
            "  inflating: train6/pdfs81517.pdf    \n",
            "  inflating: train6/pdfs81516.pdf    \n",
            "  inflating: train6/pdfs81528.pdf    \n",
            "  inflating: train6/pdfs81529.pdf    \n",
            "  inflating: train6/pdfs81515.pdf    \n",
            "  inflating: train6/pdfs81539.pdf    \n",
            "  inflating: train6/pdfs81538.pdf    \n"
          ]
        }
      ],
      "source": [
        "!wget \"https://challenges-asset-files.s3.us-east-2.amazonaws.com/data_sets/Data-Science/4+-+events/SchneiderElectricES22/final/train1.csv\"\n",
        "!wget \"https://challenges-asset-files.s3.us-east-2.amazonaws.com/data_sets/Data-Science/4+-+events/SchneiderElectricES22/final/train2.csv\"\n",
        "!wget \"https://challenges-asset-files.s3.us-east-2.amazonaws.com/data_sets/Data-Science/4+-+events/SchneiderElectricES22/final/train6.zip\"\n",
        "!unzip train6.zip"
      ]
    },
    {
      "cell_type": "code",
      "execution_count": 2,
      "metadata": {
        "cell_id": "9e7fb62e-fee0-4bff-88a1-56f08d903b1e",
        "deepnote_cell_height": 531,
        "deepnote_cell_type": "code",
        "deepnote_to_be_reexecuted": false,
        "execution_millis": 296,
        "execution_start": 1653127039469,
        "id": "DAVuALSuojvM",
        "source_hash": "7ed2dcf8"
      },
      "outputs": [],
      "source": [
        "import numpy as np\n",
        "import pandas as pd\n",
        "import matplotlib.pyplot as plt\n",
        "import seaborn as sns\n",
        "import warnings\n",
        "import scipy.stats\n",
        "from scipy.stats import iqr\n",
        "from sklearn.model_selection import train_test_split\n",
        "from imblearn.over_sampling import SMOTE \n",
        "from sklearn.pipeline import make_pipeline\n",
        "from sklearn.preprocessing import StandardScaler\n",
        "from sklearn.ensemble import RandomForestClassifier\n",
        "from sklearn.ensemble import GradientBoostingClassifier\n",
        "from sklearn.linear_model import LogisticRegression\n",
        "from sklearn.tree import DecisionTreeClassifier\n",
        "from sklearn.neighbors import KNeighborsClassifier\n",
        "from sklearn.svm import SVC\n",
        "from sklearn.model_selection import GridSearchCV\n",
        "from sklearn.ensemble import VotingClassifier\n",
        "from sklearn.metrics import accuracy_score, auc, f1_score, precision_score, recall_score,\\\n",
        "                            roc_auc_score, roc_curve, precision_recall_curve, confusion_matrix\n",
        "\n",
        "warnings.filterwarnings(\"ignore\")\n",
        "pd.set_option('display.max.rows',169)\n",
        "pd.set_option('display.max.columns',169)\n",
        "pd.set_option('float_format', '{:.2f}'.format)"
      ]
    },
    {
      "cell_type": "markdown",
      "metadata": {
        "cell_id": "35058ff5188c475a982e05abee5cf4da",
        "deepnote_cell_type": "text-cell-h3",
        "is_collapsed": false,
        "tags": [],
        "id": "8KXjO4cxMvps"
      },
      "source": [
        "### Get data files - csv, json, pdf"
      ]
    },
    {
      "cell_type": "code",
      "execution_count": 3,
      "metadata": {
        "cell_id": "00001-3fd0aab8-bea0-4a45-a380-dc55d7c4535b",
        "deepnote_cell_height": 81,
        "deepnote_cell_type": "code",
        "deepnote_to_be_reexecuted": false,
        "execution_millis": 173,
        "execution_start": 1653127168257,
        "id": "SCXJyoSbrcGR",
        "source_hash": "d3c780db"
      },
      "outputs": [],
      "source": [
        "train1 = pd.read_csv('train1.csv')"
      ]
    },
    {
      "cell_type": "code",
      "source": [
        "train1.info()"
      ],
      "metadata": {
        "id": "ohmHazwPNFb5",
        "colab": {
          "base_uri": "https://localhost:8080/"
        },
        "outputId": "273e4c9b-9b7e-4db1-d73f-a103d8ca5aae"
      },
      "execution_count": 4,
      "outputs": [
        {
          "output_type": "stream",
          "name": "stdout",
          "text": [
            "<class 'pandas.core.frame.DataFrame'>\n",
            "RangeIndex: 18563 entries, 0 to 18562\n",
            "Data columns (total 21 columns):\n",
            " #   Column                        Non-Null Count  Dtype  \n",
            "---  ------                        --------------  -----  \n",
            " 0   countryName                   18563 non-null  object \n",
            " 1   eprtrSectorName               18563 non-null  object \n",
            " 2   EPRTRAnnexIMainActivityLabel  18563 non-null  object \n",
            " 3   FacilityInspireID             18563 non-null  object \n",
            " 4   facilityName                  18563 non-null  object \n",
            " 5   City                          18563 non-null  object \n",
            " 6   targetRelease                 18563 non-null  object \n",
            " 7   pollutant                     18563 non-null  object \n",
            " 8   reportingYear                 18563 non-null  int64  \n",
            " 9   MONTH                         18563 non-null  int64  \n",
            " 10  DAY                           18563 non-null  int64  \n",
            " 11  CONTINENT                     18563 non-null  object \n",
            " 12  max_wind_speed                18563 non-null  float64\n",
            " 13  avg_wind_speed                18563 non-null  float64\n",
            " 14  min_wind_speed                18563 non-null  float64\n",
            " 15  max_temp                      18563 non-null  float64\n",
            " 16  avg_temp                      18563 non-null  float64\n",
            " 17  min_temp                      18563 non-null  float64\n",
            " 18  DAY WITH FOGS                 18563 non-null  int64  \n",
            " 19  REPORTER NAME                 18563 non-null  object \n",
            " 20  CITY ID                       18563 non-null  object \n",
            "dtypes: float64(6), int64(4), object(11)\n",
            "memory usage: 3.0+ MB\n"
          ]
        }
      ]
    },
    {
      "cell_type": "code",
      "source": [
        "true_list = ['countryName',\n",
        "             'EPRETRSectorCode', \n",
        "             'eptrSectorName', \n",
        "             'EPRTRAnnexIMainActivityCode', \n",
        "             'EPRTRAnnexIMainActivityLabel', \n",
        "             'FacilityInspireID', \n",
        "             'facilityName', \n",
        "             'City', \n",
        "             'CITY ID ', \n",
        "             'targetRelease', \n",
        "             'pollutant', \n",
        "             'DAY', \n",
        "             'MONTH', \n",
        "             'reportingYear', \n",
        "             'CONTINENT', \n",
        "             'max_wind_speed', \n",
        "             'avg_wind_speed', \n",
        "             'min_wind_speed', \n",
        "             'max_temp', \n",
        "             'avg_temp', \n",
        "             'min_temp', \n",
        "             'DAYS WITH FOG', \n",
        "             'REPORTER NAME']"
      ],
      "metadata": {
        "id": "3xPX6V0vNtSb"
      },
      "execution_count": 5,
      "outputs": []
    },
    {
      "cell_type": "code",
      "execution_count": 6,
      "metadata": {
        "cell_id": "00003-e4caa732-06fd-4b7b-b30b-5bca7afb6247",
        "deepnote_cell_height": 81,
        "deepnote_cell_type": "code",
        "deepnote_to_be_reexecuted": false,
        "execution_millis": 282,
        "execution_start": 1653127339053,
        "id": "yaGSAUxKsKKl",
        "source_hash": "75bc9368"
      },
      "outputs": [],
      "source": [
        "train2 = pd.read_csv(\"train2.csv\", sep=\";\")"
      ]
    },
    {
      "cell_type": "code",
      "source": [
        "train2.shape"
      ],
      "metadata": {
        "id": "6frOEE2gQD35",
        "colab": {
          "base_uri": "https://localhost:8080/"
        },
        "outputId": "b38bfd8e-4fa2-4eab-a749-217b6fa7cc17"
      },
      "execution_count": 7,
      "outputs": [
        {
          "output_type": "execute_result",
          "data": {
            "text/plain": [
              "(18564, 21)"
            ]
          },
          "metadata": {},
          "execution_count": 7
        }
      ]
    },
    {
      "cell_type": "code",
      "source": [
        "train2.info()"
      ],
      "metadata": {
        "id": "yxoHtKQmQKaD",
        "colab": {
          "base_uri": "https://localhost:8080/"
        },
        "outputId": "bc85350b-5f04-455b-f893-7af74b858325"
      },
      "execution_count": 8,
      "outputs": [
        {
          "output_type": "stream",
          "name": "stdout",
          "text": [
            "<class 'pandas.core.frame.DataFrame'>\n",
            "RangeIndex: 18564 entries, 0 to 18563\n",
            "Data columns (total 21 columns):\n",
            " #   Column                        Non-Null Count  Dtype  \n",
            "---  ------                        --------------  -----  \n",
            " 0   countryName                   18564 non-null  object \n",
            " 1   eprtrSectorName               18564 non-null  object \n",
            " 2   EPRTRAnnexIMainActivityLabel  18564 non-null  object \n",
            " 3   FacilityInspireID             18564 non-null  object \n",
            " 4   facilityName                  18564 non-null  object \n",
            " 5   City                          18564 non-null  object \n",
            " 6   targetRelease                 18564 non-null  object \n",
            " 7   pollutant                     18564 non-null  object \n",
            " 8   reportingYear                 18564 non-null  int64  \n",
            " 9   MONTH                         18564 non-null  int64  \n",
            " 10  DAY                           18564 non-null  int64  \n",
            " 11  CONTINENT                     18564 non-null  object \n",
            " 12  max_wind_speed                18564 non-null  float64\n",
            " 13  avg_wind_speed                18564 non-null  float64\n",
            " 14  min_wind_speed                18564 non-null  float64\n",
            " 15  max_temp                      18564 non-null  float64\n",
            " 16  avg_temp                      18564 non-null  float64\n",
            " 17  min_temp                      18564 non-null  float64\n",
            " 18  DAY WITH FOGS                 18564 non-null  int64  \n",
            " 19  REPORTER NAME                 18564 non-null  object \n",
            " 20  CITY ID                       18564 non-null  object \n",
            "dtypes: float64(6), int64(4), object(11)\n",
            "memory usage: 3.0+ MB\n"
          ]
        }
      ]
    },
    {
      "cell_type": "code",
      "source": [
        "train1.columns == train2.columns"
      ],
      "metadata": {
        "id": "vlxS8tnSQTOu",
        "colab": {
          "base_uri": "https://localhost:8080/"
        },
        "outputId": "357bfc7e-fab2-4012-b3ed-933bc0c40e42"
      },
      "execution_count": 9,
      "outputs": [
        {
          "output_type": "execute_result",
          "data": {
            "text/plain": [
              "array([ True,  True,  True,  True,  True,  True,  True,  True,  True,\n",
              "        True,  True,  True,  True,  True,  True,  True,  True,  True,\n",
              "        True,  True,  True])"
            ]
          },
          "metadata": {},
          "execution_count": 9
        }
      ]
    },
    {
      "cell_type": "markdown",
      "metadata": {
        "cell_id": "933e9bd550544a46ab9a73a5e1a847dd",
        "deepnote_cell_type": "text-cell-h3",
        "is_collapsed": false,
        "tags": [],
        "id": "ulNHi4xPMvp5"
      },
      "source": [
        "### Get the json files via API"
      ]
    },
    {
      "cell_type": "code",
      "execution_count": 10,
      "metadata": {
        "cell_id": "00005-77388efc-4f3f-41fc-b3cb-3da8a1a11492",
        "deepnote_cell_height": 99,
        "deepnote_cell_type": "code",
        "deepnote_to_be_reexecuted": false,
        "execution_millis": 0,
        "execution_start": 1653127344227,
        "id": "90xbE7Y9tglv",
        "source_hash": "9cd2b289"
      },
      "outputs": [],
      "source": [
        "import requests\n",
        "import json"
      ]
    },
    {
      "cell_type": "code",
      "execution_count": 11,
      "metadata": {
        "cell_id": "00006-69cc704b-1290-4d89-9c9b-d74d0a4c3f2b",
        "deepnote_cell_height": 81,
        "deepnote_cell_type": "code",
        "deepnote_to_be_reexecuted": false,
        "execution_millis": 625,
        "execution_start": 1653127346319,
        "id": "vc2ZcphwuotK",
        "source_hash": "1814fa4d"
      },
      "outputs": [],
      "source": [
        "response = requests.get('http://schneiderapihack-env.eba-3ais9akk.us-east-2.elasticbeanstalk.com/first').text"
      ]
    },
    {
      "cell_type": "code",
      "execution_count": 12,
      "metadata": {
        "cell_id": "00008-cfb4a10b-dda9-48e7-a564-d7c59a08dc6a",
        "deepnote_cell_height": 81,
        "deepnote_cell_type": "code",
        "deepnote_to_be_reexecuted": false,
        "execution_millis": 2,
        "execution_start": 1653127354389,
        "id": "BC0LzxDUvjeK",
        "source_hash": "4c8fa1a0"
      },
      "outputs": [],
      "source": [
        "response_info = json.loads(response)"
      ]
    },
    {
      "cell_type": "code",
      "execution_count": 13,
      "metadata": {
        "cell_id": "00009-2cf321a5-4d81-4b83-bdfd-b55b6f51e889",
        "deepnote_cell_height": 81,
        "deepnote_cell_type": "code",
        "deepnote_to_be_reexecuted": false,
        "execution_millis": 86,
        "execution_start": 1653127354798,
        "id": "ixHmZ1aqxIfG",
        "source_hash": "374e499c"
      },
      "outputs": [],
      "source": [
        "train3 = pd.DataFrame(response_info)"
      ]
    },
    {
      "cell_type": "code",
      "execution_count": 14,
      "metadata": {
        "cell_id": "00010-c5c4805f-899b-47af-b14c-a23b1be7e904",
        "deepnote_cell_height": 81,
        "deepnote_cell_type": "code",
        "deepnote_to_be_reexecuted": false,
        "execution_millis": 715,
        "execution_start": 1653127355388,
        "id": "wHdyKG5By_9e",
        "owner_user_id": "708f2efa-6355-411c-879f-df2a8a6e5217",
        "source_hash": "75bd66f6"
      },
      "outputs": [],
      "source": [
        "response2 = requests.get('http://schneiderapihack-env.eba-3ais9akk.us-east-2.elasticbeanstalk.com/second').text"
      ]
    },
    {
      "cell_type": "code",
      "execution_count": 15,
      "metadata": {
        "cell_id": "00011-6b145347-6ebe-4bf4-8df6-30f996775811",
        "deepnote_cell_height": 81,
        "deepnote_cell_type": "code",
        "deepnote_to_be_reexecuted": false,
        "execution_millis": 205,
        "execution_start": 1653127356116,
        "id": "ClIxFbp7zZfA",
        "source_hash": "3933f9d1"
      },
      "outputs": [],
      "source": [
        "response_info2 = json.loads(response2)"
      ]
    },
    {
      "cell_type": "code",
      "execution_count": 16,
      "metadata": {
        "cell_id": "00012-9982f099-a9ff-45c5-9c27-e7e94a9501dd",
        "deepnote_cell_height": 81,
        "deepnote_cell_type": "code",
        "deepnote_to_be_reexecuted": false,
        "execution_millis": 67,
        "execution_start": 1653127356984,
        "id": "YyBU60jUzjxm",
        "source_hash": "9a1b4506"
      },
      "outputs": [],
      "source": [
        "train4 = pd.DataFrame(response_info2)"
      ]
    },
    {
      "cell_type": "code",
      "execution_count": 17,
      "metadata": {
        "cell_id": "00013-29f0e770-8c34-45ea-821c-e87071fadfc9",
        "deepnote_cell_height": 81,
        "deepnote_cell_type": "code",
        "deepnote_to_be_reexecuted": false,
        "execution_millis": 749,
        "execution_start": 1653127357315,
        "id": "ebIUBsK6zujO",
        "source_hash": "47a69237"
      },
      "outputs": [],
      "source": [
        "response3 = requests.get('http://schneiderapihack-env.eba-3ais9akk.us-east-2.elasticbeanstalk.com/third').text"
      ]
    },
    {
      "cell_type": "code",
      "execution_count": 18,
      "metadata": {
        "cell_id": "00014-494ae7d0-250f-404c-a354-ca4596c04bba",
        "deepnote_cell_height": 81,
        "deepnote_cell_type": "code",
        "deepnote_to_be_reexecuted": false,
        "execution_millis": 1,
        "execution_start": 1653127358225,
        "id": "PPYMnuMA1D8o",
        "source_hash": "bb211be8"
      },
      "outputs": [],
      "source": [
        "response_info3 = json.loads(response3)"
      ]
    },
    {
      "cell_type": "code",
      "execution_count": 19,
      "metadata": {
        "cell_id": "00015-f1d075c5-60bb-411e-aeb3-a7f95273c8fe",
        "deepnote_cell_height": 81,
        "deepnote_cell_type": "code",
        "deepnote_to_be_reexecuted": false,
        "execution_millis": 100,
        "execution_start": 1653127358626,
        "id": "uAiqDQ0S13zh",
        "source_hash": "dd206faa"
      },
      "outputs": [],
      "source": [
        "train5 = pd.DataFrame(response_info3)"
      ]
    },
    {
      "cell_type": "code",
      "source": [
        "train4.shape"
      ],
      "metadata": {
        "id": "o0pHd-vap9YX",
        "colab": {
          "base_uri": "https://localhost:8080/"
        },
        "outputId": "78ed6a82-0140-488d-f69b-1ee30dec99b6"
      },
      "execution_count": 20,
      "outputs": [
        {
          "output_type": "execute_result",
          "data": {
            "text/plain": [
              "(9500, 24)"
            ]
          },
          "metadata": {},
          "execution_count": 20
        }
      ]
    },
    {
      "cell_type": "code",
      "source": [
        "train5.shape"
      ],
      "metadata": {
        "id": "Ovd7xI9IqLjZ",
        "colab": {
          "base_uri": "https://localhost:8080/"
        },
        "outputId": "af946336-ff96-4d79-ca6b-b5507e4b6f33"
      },
      "execution_count": 21,
      "outputs": [
        {
          "output_type": "execute_result",
          "data": {
            "text/plain": [
              "(9501, 24)"
            ]
          },
          "metadata": {},
          "execution_count": 21
        }
      ]
    },
    {
      "cell_type": "code",
      "source": [
        "train3.shape"
      ],
      "metadata": {
        "id": "HzYFwe2OPtsH",
        "colab": {
          "base_uri": "https://localhost:8080/"
        },
        "outputId": "d0e46ff2-3ea1-4c86-c29b-c8874dec7fd5"
      },
      "execution_count": 22,
      "outputs": [
        {
          "output_type": "execute_result",
          "data": {
            "text/plain": [
              "(9500, 24)"
            ]
          },
          "metadata": {},
          "execution_count": 22
        }
      ]
    },
    {
      "cell_type": "code",
      "source": [
        "train4.columns == train5.columns"
      ],
      "metadata": {
        "id": "guzERpdcqQ2L",
        "colab": {
          "base_uri": "https://localhost:8080/"
        },
        "outputId": "81c2e368-2b42-432e-fbce-4d0bfc60e031"
      },
      "execution_count": 23,
      "outputs": [
        {
          "output_type": "execute_result",
          "data": {
            "text/plain": [
              "array([ True,  True,  True,  True,  True,  True,  True,  True,  True,\n",
              "        True,  True,  True,  True,  True,  True,  True,  True,  True,\n",
              "        True,  True,  True,  True,  True,  True])"
            ]
          },
          "metadata": {},
          "execution_count": 23
        }
      ]
    },
    {
      "cell_type": "code",
      "source": [
        "train4.columns == train3.columns"
      ],
      "metadata": {
        "id": "QsKXbtGLQYvK",
        "colab": {
          "base_uri": "https://localhost:8080/"
        },
        "outputId": "64bedd9c-ada3-42db-e78e-0cf31f69b1e8"
      },
      "execution_count": 24,
      "outputs": [
        {
          "output_type": "execute_result",
          "data": {
            "text/plain": [
              "array([ True,  True,  True,  True,  True,  True,  True,  True,  True,\n",
              "        True,  True,  True,  True,  True,  True,  True,  True,  True,\n",
              "        True,  True,  True,  True,  True,  True])"
            ]
          },
          "metadata": {},
          "execution_count": 24
        }
      ]
    },
    {
      "cell_type": "markdown",
      "source": [
        "Uniendo las siguientes 2 bases de datos"
      ],
      "metadata": {
        "id": "g9xFJvw-rJgM"
      }
    },
    {
      "cell_type": "code",
      "source": [
        "true_list = ['countryName',\n",
        "             'EPRETRSectorCode', \n",
        "             'eptrSectorName', \n",
        "             'EPRTRAnnexIMainActivityCode', \n",
        "             'EPRTRAnnexIMainActivityLabel', \n",
        "             'FacilityInspireID', \n",
        "             'facilityName', \n",
        "             'City', \n",
        "             'CITY ID ', \n",
        "             'targetRelease', \n",
        "             'pollutant', \n",
        "             'DAY', \n",
        "             'MONTH', \n",
        "             'reportingYear', \n",
        "             'CONTINENT', \n",
        "             'max_wind_speed', \n",
        "             'avg_wind_speed', \n",
        "             'min_wind_speed', \n",
        "             'max_temp', \n",
        "             'avg_temp', \n",
        "             'min_temp', \n",
        "             'DAYS WITH FOG', \n",
        "             'REPORTER NAME']"
      ],
      "metadata": {
        "id": "4ln7RrycucpS"
      },
      "execution_count": 25,
      "outputs": []
    },
    {
      "cell_type": "code",
      "source": [
        "len(true_list)"
      ],
      "metadata": {
        "id": "Ma3VrJyMuhdE",
        "colab": {
          "base_uri": "https://localhost:8080/"
        },
        "outputId": "8d491776-52d9-4963-eed4-29d8eef0fc44"
      },
      "execution_count": 26,
      "outputs": [
        {
          "output_type": "execute_result",
          "data": {
            "text/plain": [
              "23"
            ]
          },
          "metadata": {},
          "execution_count": 26
        }
      ]
    },
    {
      "cell_type": "code",
      "source": [
        "df1 = pd.concat([train3,train4,train5], axis=0)"
      ],
      "metadata": {
        "id": "XVf40Dx9qvec"
      },
      "execution_count": 27,
      "outputs": []
    },
    {
      "cell_type": "code",
      "source": [
        "df1.drop('', axis=1, inplace=True)"
      ],
      "metadata": {
        "id": "W320ibSv8Piz"
      },
      "execution_count": 28,
      "outputs": []
    },
    {
      "cell_type": "code",
      "source": [
        "sector_code = df1[['eprtrSectorName', 'EPRTRSectorCode']]"
      ],
      "metadata": {
        "id": "kL5rv3M2-Xcd"
      },
      "execution_count": 29,
      "outputs": []
    },
    {
      "cell_type": "code",
      "source": [
        "activity_code = df1[['EPRTRAnnexIMainActivityLabel', 'EPRTRAnnexIMainActivityCode']]"
      ],
      "metadata": {
        "id": "lv_pe2F6CFPj"
      },
      "execution_count": 30,
      "outputs": []
    },
    {
      "cell_type": "code",
      "source": [
        "df2 = pd.concat([train1,train2],axis=0)"
      ],
      "metadata": {
        "id": "nVVmp59Rb4f9"
      },
      "execution_count": 31,
      "outputs": []
    },
    {
      "cell_type": "code",
      "source": [
        "df2 = df2.drop_duplicates(keep='first')"
      ],
      "metadata": {
        "id": "LXJcZYIes2A1"
      },
      "execution_count": 32,
      "outputs": []
    },
    {
      "cell_type": "code",
      "source": [
        "df2.shape"
      ],
      "metadata": {
        "colab": {
          "base_uri": "https://localhost:8080/"
        },
        "id": "5SvRa3Rftaf-",
        "outputId": "6a02098e-59a5-4392-bdbb-cf0a2f5bc99c"
      },
      "execution_count": 33,
      "outputs": [
        {
          "output_type": "execute_result",
          "data": {
            "text/plain": [
              "(28559, 21)"
            ]
          },
          "metadata": {},
          "execution_count": 33
        }
      ]
    },
    {
      "cell_type": "code",
      "source": [
        "#B = df2[:len(df2)//2]\n",
        "#C = df2[len(df2)//2:]"
      ],
      "metadata": {
        "id": "TObL928nnhWq"
      },
      "execution_count": 34,
      "outputs": []
    },
    {
      "cell_type": "code",
      "source": [
        "#B= B.merge(activity_code, on='EPRTRAnnexIMainActivityLabel')"
      ],
      "metadata": {
        "id": "9-TU857jYqe4"
      },
      "execution_count": 35,
      "outputs": []
    },
    {
      "cell_type": "code",
      "source": [
        "#B = B.merge(sector_code, on='eprtrSectorName')"
      ],
      "metadata": {
        "id": "w81SooqRYyCV"
      },
      "execution_count": 36,
      "outputs": []
    },
    {
      "cell_type": "markdown",
      "metadata": {
        "cell_id": "c796d8f62caa4c43b6105cf0b01b0a0d",
        "deepnote_cell_type": "text-cell-h2",
        "is_collapsed": false,
        "tags": [],
        "id": "486oJyMvMvp_"
      },
      "source": [
        "## Import PDF files"
      ]
    },
    {
      "cell_type": "code",
      "source": [
        "pip install tika"
      ],
      "metadata": {
        "id": "mBgw9hjQPm-p",
        "colab": {
          "base_uri": "https://localhost:8080/"
        },
        "outputId": "16bc4587-40d2-48cd-8ad0-20438807dd48"
      },
      "execution_count": 37,
      "outputs": [
        {
          "output_type": "stream",
          "name": "stdout",
          "text": [
            "Looking in indexes: https://pypi.org/simple, https://us-python.pkg.dev/colab-wheels/public/simple/\n",
            "Requirement already satisfied: tika in /usr/local/lib/python3.7/dist-packages (1.24)\n",
            "Requirement already satisfied: setuptools in /usr/local/lib/python3.7/dist-packages (from tika) (57.4.0)\n",
            "Requirement already satisfied: requests in /usr/local/lib/python3.7/dist-packages (from tika) (2.23.0)\n",
            "Requirement already satisfied: certifi>=2017.4.17 in /usr/local/lib/python3.7/dist-packages (from requests->tika) (2022.5.18.1)\n",
            "Requirement already satisfied: urllib3!=1.25.0,!=1.25.1,<1.26,>=1.21.1 in /usr/local/lib/python3.7/dist-packages (from requests->tika) (1.24.3)\n",
            "Requirement already satisfied: idna<3,>=2.5 in /usr/local/lib/python3.7/dist-packages (from requests->tika) (2.10)\n",
            "Requirement already satisfied: chardet<4,>=3.0.2 in /usr/local/lib/python3.7/dist-packages (from requests->tika) (3.0.4)\n"
          ]
        }
      ]
    },
    {
      "cell_type": "code",
      "execution_count": 38,
      "metadata": {
        "cell_id": "8e373702bc1d420e92798a5abfb6c4a3",
        "deepnote_cell_height": 207,
        "deepnote_cell_type": "code",
        "deepnote_to_be_reexecuted": false,
        "execution_millis": 10,
        "execution_start": 1653129774235,
        "source_hash": "96a708a6",
        "tags": [],
        "id": "44GcNeosMvp_"
      },
      "outputs": [],
      "source": [
        "from tika import parser\n",
        "from bs4 import BeautifulSoup\n",
        "import glob\n",
        "import os\n",
        "import json\n",
        "from tqdm import tqdm\n",
        "import tika\n",
        "tika.initVM()"
      ]
    },
    {
      "cell_type": "code",
      "execution_count": 39,
      "metadata": {
        "cell_id": "c904f086c3274db1ab8b66e679551713",
        "deepnote_cell_height": 780,
        "deepnote_cell_type": "code",
        "deepnote_output_heights": [
          611
        ],
        "deepnote_to_be_reexecuted": false,
        "execution_millis": 16,
        "execution_start": 1653127952229,
        "source_hash": "4f2e61ab",
        "tags": [],
        "id": "3RZu6is3MvqA",
        "colab": {
          "base_uri": "https://localhost:8080/"
        },
        "outputId": "48726059-98ce-4820-8111-47b0ddf303ac"
      },
      "outputs": [
        {
          "output_type": "execute_result",
          "data": {
            "text/plain": [
              "['train6/pdfs81587.pdf',\n",
              " 'train6/pdfs81562.pdf',\n",
              " 'train6/pdfs81584.pdf',\n",
              " 'train6/pdfs81535.pdf',\n",
              " 'train6/pdfs81593.pdf',\n",
              " 'train6/pdfs81553.pdf',\n",
              " 'train6/pdfs81590.pdf',\n",
              " 'train6/pdfs81528.pdf',\n",
              " 'train6/pdfs81574.pdf',\n",
              " 'train6/pdfs81558.pdf',\n",
              " 'train6/pdfs81577.pdf',\n",
              " 'train6/pdfs81578.pdf',\n",
              " 'train6/pdfs81541.pdf',\n",
              " 'train6/pdfs81515.pdf',\n",
              " 'train6/pdfs81548.pdf',\n",
              " 'train6/pdfs81544.pdf',\n",
              " 'train6/pdfs81588.pdf',\n",
              " 'train6/pdfs81589.pdf',\n",
              " 'train6/pdfs81520.pdf',\n",
              " 'train6/pdfs81582.pdf',\n",
              " 'train6/pdfs81580.pdf',\n",
              " 'train6/pdfs81540.pdf',\n",
              " 'train6/pdfs81576.pdf',\n",
              " 'train6/pdfs81531.pdf',\n",
              " 'train6/pdfs81554.pdf',\n",
              " 'train6/pdfs81567.pdf',\n",
              " 'train6/pdfs81549.pdf',\n",
              " 'train6/pdfs81551.pdf',\n",
              " 'train6/pdfs81518.pdf',\n",
              " 'train6/pdfs81581.pdf',\n",
              " 'train6/pdfs81583.pdf',\n",
              " 'train6/pdfs81527.pdf',\n",
              " 'train6/pdfs81523.pdf',\n",
              " 'train6/pdfs81569.pdf',\n",
              " 'train6/pdfs81538.pdf',\n",
              " 'train6/pdfs81547.pdf',\n",
              " 'train6/pdfs81545.pdf',\n",
              " 'train6/pdfs81592.pdf',\n",
              " 'train6/pdfs81568.pdf',\n",
              " 'train6/pdfs81542.pdf',\n",
              " 'train6/pdfs81570.pdf',\n",
              " 'train6/pdfs81566.pdf',\n",
              " 'train6/pdfs81534.pdf',\n",
              " 'train6/pdfs81594.pdf',\n",
              " 'train6/pdfs81550.pdf',\n",
              " 'train6/pdfs81586.pdf',\n",
              " 'train6/pdfs81571.pdf',\n",
              " 'train6/pdfs81521.pdf',\n",
              " 'train6/pdfs81579.pdf',\n",
              " 'train6/pdfs81537.pdf',\n",
              " 'train6/pdfs81585.pdf',\n",
              " 'train6/pdfs81522.pdf',\n",
              " 'train6/pdfs81546.pdf',\n",
              " 'train6/pdfs81526.pdf',\n",
              " 'train6/pdfs81559.pdf',\n",
              " 'train6/pdfs81543.pdf',\n",
              " 'train6/pdfs81532.pdf',\n",
              " 'train6/pdfs81525.pdf',\n",
              " 'train6/pdfs81557.pdf',\n",
              " 'train6/pdfs81572.pdf',\n",
              " 'train6/pdfs81591.pdf',\n",
              " 'train6/pdfs81555.pdf',\n",
              " 'train6/pdfs81575.pdf',\n",
              " 'train6/pdfs81539.pdf',\n",
              " 'train6/pdfs81517.pdf',\n",
              " 'train6/pdfs81564.pdf',\n",
              " 'train6/pdfs-1.pdf',\n",
              " 'train6/pdfs81529.pdf',\n",
              " 'train6/pdfs81533.pdf',\n",
              " 'train6/pdfs81563.pdf',\n",
              " 'train6/pdfs81596.pdf',\n",
              " 'train6/pdfs81573.pdf',\n",
              " 'train6/pdfs81556.pdf',\n",
              " 'train6/pdfs81530.pdf',\n",
              " 'train6/pdfs81552.pdf',\n",
              " 'train6/pdfs81560.pdf',\n",
              " 'train6/pdfs81536.pdf',\n",
              " 'train6/pdfs81561.pdf',\n",
              " 'train6/pdfs81595.pdf',\n",
              " 'train6/pdfs81524.pdf',\n",
              " 'train6/pdfs81516.pdf',\n",
              " 'train6/pdfs81519.pdf']"
            ]
          },
          "metadata": {},
          "execution_count": 39
        }
      ],
      "source": [
        "path_to_data = \"train6/\"\n",
        "doctypes = ['doc', 'docx', 'pdf', 'txt', 'pptx', 'ppt']\n",
        "pepe = [glob.glob(path_to_data + f'/**/*.{extension}', recursive=True) for extension in doctypes]\n",
        "list_of_docs = [var for sublist in pepe for var in sublist]\n",
        "list_of_docs"
      ]
    },
    {
      "cell_type": "code",
      "execution_count": 40,
      "metadata": {
        "cell_id": "63ea5c05d65344fd92c6adae6d9eff4f",
        "deepnote_cell_height": 207,
        "deepnote_cell_type": "code",
        "deepnote_to_be_reexecuted": false,
        "execution_millis": 5,
        "execution_start": 1653132407300,
        "source_hash": "8b228010",
        "tags": [],
        "id": "-Pfhe9g9MvqA"
      },
      "outputs": [],
      "source": [
        "def extract_text_from_pdf(file, sep='\\t\\n\\t\\n\\t\\n'):\n",
        "  raw_xml = parser.from_file(file, xmlContent=True)\n",
        "  body = raw_xml['content'].split('<body>')[1].split('</body>')[0]\n",
        "  body_without_tag = body.replace(\"<p>\", \"\\n\").replace(\"</p>\", \"\").replace(\"<div>\", \"\").replace(\"</div>\",\"\").replace(\"<p />\",\"\\n\")\n",
        "  text_pages = body_without_tag.split(\"\"\"<div class=\"page\">\"\"\")[1:]\n",
        "  num_pages = len(text_pages)\n",
        "  return sep.join(text_pages)\n"
      ]
    },
    {
      "cell_type": "code",
      "execution_count": 41,
      "metadata": {
        "cell_id": "59dfcb7dd1d54897b9a13bd38eb67216",
        "deepnote_cell_height": 246,
        "deepnote_cell_type": "code",
        "deepnote_output_heights": [
          21
        ],
        "deepnote_to_be_reexecuted": false,
        "execution_millis": 364,
        "execution_start": 1653129785990,
        "source_hash": "2676cee",
        "tags": [],
        "id": "pAr7KyXwMvqB"
      },
      "outputs": [],
      "source": [
        "raw_docs = [extract_text_from_pdf(doc) for doc in list_of_docs]\n",
        "df_docs = pd.DataFrame(columns = ['raw_text'], data = raw_docs)\n",
        "df_docs.to_csv('pdf_documents_data_6.csv')"
      ]
    },
    {
      "cell_type": "code",
      "execution_count": 42,
      "metadata": {
        "cell_id": "9e738baec068459eb06532ae0c26f4ff",
        "deepnote_cell_height": 81,
        "deepnote_cell_type": "code",
        "deepnote_to_be_reexecuted": false,
        "execution_millis": 9,
        "execution_start": 1653136770100,
        "source_hash": "fd6a0206",
        "tags": [],
        "id": "0bsNzkE-MvqB"
      },
      "outputs": [],
      "source": [
        "raw6 = pd.read_csv('pdf_documents_data_6.csv', index_col = 0)"
      ]
    },
    {
      "cell_type": "code",
      "execution_count": 43,
      "metadata": {
        "cell_id": "02870b037bda4885bce106eaacbf797b",
        "deepnote_cell_height": 117,
        "deepnote_cell_type": "code",
        "deepnote_output_heights": [
          611
        ],
        "deepnote_table_loading": false,
        "deepnote_table_state": {
          "filters": [],
          "pageIndex": 0,
          "pageSize": 10,
          "sortBy": []
        },
        "deepnote_to_be_reexecuted": false,
        "execution_millis": 12,
        "execution_start": 1653136771832,
        "source_hash": "443b6578",
        "tags": [],
        "id": "3xrTk2WBMvqB"
      },
      "outputs": [],
      "source": [
        "raw6['raw_text'] = raw6['raw_text'].str.replace('\\n\\n\\nREPORT CONTAMINACIÓN\\n\\n\\n', 'REPORT CONTAMINACIÓN ')\n",
        "raw6['raw_text'] = raw6['raw_text'].str.split('\\n\\n\\n')\n"
      ]
    },
    {
      "cell_type": "code",
      "execution_count": 44,
      "metadata": {
        "cell_id": "292fe64fa9454d7c92c45331983dcd71",
        "deepnote_cell_height": 118,
        "deepnote_cell_type": "code",
        "deepnote_output_heights": [
          21
        ],
        "deepnote_to_be_reexecuted": false,
        "execution_millis": 9,
        "execution_start": 1653137433690,
        "source_hash": "ca97f153",
        "tags": [],
        "id": "w48-rQxGMvqC",
        "colab": {
          "base_uri": "https://localhost:8080/"
        },
        "outputId": "f94f6bb0-b089-4a1b-a8d9-529049be2fcb"
      },
      "outputs": [
        {
          "output_type": "execute_result",
          "data": {
            "text/plain": [
              "list"
            ]
          },
          "metadata": {},
          "execution_count": 44
        }
      ],
      "source": [
        "type(raw6.iloc[0].loc['raw_text'])"
      ]
    },
    {
      "cell_type": "code",
      "execution_count": 45,
      "metadata": {
        "cell_id": "6997f31f432f407ba1b54c795e8dd734",
        "deepnote_cell_height": 470,
        "deepnote_cell_type": "code",
        "deepnote_output_heights": [
          21,
          21
        ],
        "deepnote_to_be_reexecuted": false,
        "execution_millis": 12,
        "execution_start": 1653137502400,
        "source_hash": "5634029d",
        "tags": [],
        "id": "6e6K5061MvqC",
        "colab": {
          "base_uri": "https://localhost:8080/"
        },
        "outputId": "4fc8f7ba-089f-4225-d2c4-da6c0be68c0b"
      },
      "outputs": [
        {
          "output_type": "stream",
          "name": "stdout",
          "text": [
            "REPORT CONTAMINACIÓN nº: 81587\n",
            "FACILITY NAME: INEOS Infrastructure (Grangemouth) Ltd 81588\n",
            "FacilityInspireID: UK.SEPA/200002494.Facility\n",
            "COUNTRY: United Kingdom CONTINENT: EUROPE\n",
            "CITY: Grangemouth\n",
            "EPRTRSectorCode: 1 eprtrSectorName: Energy sector\n",
            "MainActivityCode:1(c)\n",
            "targetRealase: AIR pollutant: Carbon dioxide (CO2)\n",
            "emissions: 4,29E+08\n",
            "DAY: 10 MONTH: 8 YEAR: 2019\n",
            "METEOROLOGICAL CONDITIONS\n",
            "max_wind_speed: 1,72E+16 min_wind_speed: 2,36E+16 avg_wind_speed: 1,9E+15\n",
            "max_temp: 6,52E+15 min_temp: 1,15E+16 avg_temp: 9,45E+15\n",
            "DAYS FOG: 4\n",
            "REPORTER NAME:Teresa Soto\n",
            "CITY_ID ce6badb6a385e25ce519dc600eb7402e\n",
            "\n",
            "\n"
          ]
        }
      ],
      "source": [
        "for item in raw6.iloc[0].loc['raw_text']:\n",
        "    print(item)"
      ]
    },
    {
      "cell_type": "code",
      "source": [
        "data6_d = []\n",
        "for my_list in raw6['raw_text']:\n",
        "    data_dict = {}\n",
        "    for item in my_list:\n",
        "        try:\n",
        "            data_dict.update({item.split(':', 1)[0].strip() : item.split(':', 1)[1].strip()} )\n",
        "        except IndexError:\n",
        "            if item[:6] == 'CITY_ID':\n",
        "                data_dict.update({item.split()[0] : item.split()[1] })\n",
        "            else: \n",
        "                continue\n",
        "    data6_d.append(data_dict)\n",
        "data6_d\n",
        "\n",
        "def pdf_data_clean(the_data: dict) -> dict:\n",
        "    pass"
      ],
      "metadata": {
        "id": "SeHHRa7rUU12"
      },
      "execution_count": 46,
      "outputs": []
    },
    {
      "cell_type": "code",
      "source": [
        "idx = 3\n",
        "data6_d[idx]['FACILITY NAME'] , data6_d[idx]['FACILITY NAME'].strip(r'0123456789 ')"
      ],
      "metadata": {
        "id": "RbRyq4oTUm_x",
        "colab": {
          "base_uri": "https://localhost:8080/"
        },
        "outputId": "4c6c89b2-f207-4ff7-9342-66a1823c3337"
      },
      "execution_count": 47,
      "outputs": [
        {
          "output_type": "execute_result",
          "data": {
            "text/plain": [
              "('Auchinlea Landfill Site, Motherwell 81536',\n",
              " 'Auchinlea Landfill Site, Motherwell')"
            ]
          },
          "metadata": {},
          "execution_count": 47
        }
      ]
    },
    {
      "cell_type": "code",
      "source": [
        "data6_d[2]"
      ],
      "metadata": {
        "id": "lxXc34KR1cof",
        "colab": {
          "base_uri": "https://localhost:8080/"
        },
        "outputId": "e44c98e0-587c-47c2-dbd4-87d6abd77e3c"
      },
      "execution_count": 48,
      "outputs": [
        {
          "output_type": "execute_result",
          "data": {
            "text/plain": [
              "{'CITY': 'Grangemouth',\n",
              " 'COUNTRY': 'United Kingdom CONTINENT: EUROPE',\n",
              " 'DAY': '9 MONTH: 5 YEAR: 2019',\n",
              " 'DAYS FOG': '3',\n",
              " 'EPRTRSectorCode': '4 eprtrSectorName: Chemical industry',\n",
              " 'FACILITY NAME': 'INEOS Chemicals Grangemouth Ltd 81585',\n",
              " 'FacilityInspireID': 'UK.SEPA/200002493.Facility',\n",
              " 'MainActivityCode': '4(a)(i)',\n",
              " 'REPORT CONTAMINACIÓN nº': '81584',\n",
              " 'REPORTER NAME': 'Kelly Williams',\n",
              " 'emissions': '5,22E+08',\n",
              " 'max_temp': '1,47E+16 min_temp: 1,78E+15 avg_temp: 1,66E+15',\n",
              " 'max_wind_speed': '1,75E+16 min_wind_speed: 2,46E+15 avg_wind_speed: 1,8E+15',\n",
              " 'targetRealase': 'AIR pollutant: Carbon dioxide (CO2)'}"
            ]
          },
          "metadata": {},
          "execution_count": 48
        }
      ]
    },
    {
      "cell_type": "code",
      "source": [
        "for i in range(82):\n",
        "  data6_d[i]['CONTINENT']= \" \".join(data6_d[i][\"COUNTRY\"].split(\" \", 3)[3:])\n",
        "  data6_d[i]['MONTH']= \" \".join(data6_d[i][\"DAY\"].split(\" \", 4)[2:3])\n",
        "  data6_d[i]['YEAR']= \" \".join(data6_d[i][\"DAY\"].split(\" \", 4)[4:])\n",
        "  data6_d[i]['eprtrSectorName'] =\" \".join(data6_d[i][\"EPRTRSectorCode\"].split(\" \", 2)[2:])\n",
        "  data6_d[i]['min_temp'] = \" \".join(data6_d[i][\"max_temp\"].split(\" \", 4)[2:3])\n",
        "  data6_d[i]['avg_temp'] = \" \".join(data6_d[i][\"max_temp\"].split(\" \", 4)[4:])\n",
        "  data6_d[i]['min_wind_speed'] = \" \".join(data6_d[i][\"max_wind_speed\"].split(\" \", 4)[2:3])\n",
        "  data6_d[i]['avg_wind_speed'] = \" \".join(data6_d[i][\"max_wind_speed\"].split(\" \", 4)[4:])\n",
        "  data6_d[i]['pollutant'] = \" \".join(data6_d[i][\"targetRealase\"].split(\" \", 2)[2:])"
      ],
      "metadata": {
        "id": "6wEMd2jMOOGq"
      },
      "execution_count": 49,
      "outputs": []
    },
    {
      "cell_type": "code",
      "source": [
        "for i in range(82):\n",
        "  data6_d[i][\"EPRTRSectorCode\"]= \" \".join(data6_d[i][\"EPRTRSectorCode\"].split(\" \", 1)[:1])\n",
        "  data6_d[i][\"max_wind_speed\"]= \" \".join(data6_d[i][\"max_wind_speed\"].split(\" \", 1)[:1])\n",
        "  data6_d[i][\"max_temp\"]=\" \".join(data6_d[i][\"max_temp\"].split(\" \", 1)[:1])\n",
        "  data6_d[i][\"targetRealase\"]=\" \".join(data6_d[i][\"targetRealase\"].split(\" \", 1)[:1])\n",
        "  data6_d[i][\"COUNTRY\"]=\" \".join(data6_d[i][\"COUNTRY\"].split(\" \", 3)[:2])\n",
        "  data6_d[i][\"DAY\"]=\" \".join(data6_d[i][\"DAY\"].split(\" \", 1)[:1])"
      ],
      "metadata": {
        "id": "vUO9U5JwMsOz"
      },
      "execution_count": 50,
      "outputs": []
    },
    {
      "cell_type": "code",
      "source": [
        "data6_d[1]['CONTINENT']"
      ],
      "metadata": {
        "id": "lHRD7ePfdlWk",
        "colab": {
          "base_uri": "https://localhost:8080/",
          "height": 35
        },
        "outputId": "138215a2-c9a2-4c33-c0b7-a9284dd08c32"
      },
      "execution_count": 51,
      "outputs": [
        {
          "output_type": "execute_result",
          "data": {
            "text/plain": [
              "'EUROPE'"
            ],
            "application/vnd.google.colaboratory.intrinsic+json": {
              "type": "string"
            }
          },
          "metadata": {},
          "execution_count": 51
        }
      ]
    },
    {
      "cell_type": "markdown",
      "source": [
        "# **Trabajar con train6**"
      ],
      "metadata": {
        "id": "P-wltnk2v0dS"
      }
    },
    {
      "cell_type": "code",
      "source": [
        "train6 = pd.DataFrame(data6_d)"
      ],
      "metadata": {
        "id": "Wz13-aASW4Q5"
      },
      "execution_count": 52,
      "outputs": []
    },
    {
      "cell_type": "code",
      "source": [
        "train6.shape"
      ],
      "metadata": {
        "id": "jNg3_QQnfVts",
        "colab": {
          "base_uri": "https://localhost:8080/"
        },
        "outputId": "f5acc21d-57e4-4884-9e0e-cbe25616abc3"
      },
      "execution_count": 53,
      "outputs": [
        {
          "output_type": "execute_result",
          "data": {
            "text/plain": [
              "(82, 23)"
            ]
          },
          "metadata": {},
          "execution_count": 53
        }
      ]
    },
    {
      "cell_type": "code",
      "source": [
        "train6.info()"
      ],
      "metadata": {
        "id": "VTviHDa3dfii",
        "colab": {
          "base_uri": "https://localhost:8080/"
        },
        "outputId": "05ab87e4-5420-47aa-8eb2-c07b589d835b"
      },
      "execution_count": 54,
      "outputs": [
        {
          "output_type": "stream",
          "name": "stdout",
          "text": [
            "<class 'pandas.core.frame.DataFrame'>\n",
            "RangeIndex: 82 entries, 0 to 81\n",
            "Data columns (total 23 columns):\n",
            " #   Column                   Non-Null Count  Dtype \n",
            "---  ------                   --------------  ----- \n",
            " 0   REPORT CONTAMINACIÓN nº  82 non-null     object\n",
            " 1   FACILITY NAME            82 non-null     object\n",
            " 2   FacilityInspireID        82 non-null     object\n",
            " 3   COUNTRY                  82 non-null     object\n",
            " 4   CITY                     82 non-null     object\n",
            " 5   EPRTRSectorCode          82 non-null     object\n",
            " 6   MainActivityCode         82 non-null     object\n",
            " 7   targetRealase            82 non-null     object\n",
            " 8   emissions                82 non-null     object\n",
            " 9   DAY                      82 non-null     object\n",
            " 10  max_wind_speed           82 non-null     object\n",
            " 11  max_temp                 82 non-null     object\n",
            " 12  DAYS FOG                 82 non-null     object\n",
            " 13  REPORTER NAME            82 non-null     object\n",
            " 14  CONTINENT                82 non-null     object\n",
            " 15  MONTH                    82 non-null     object\n",
            " 16  YEAR                     82 non-null     object\n",
            " 17  eprtrSectorName          82 non-null     object\n",
            " 18  min_temp                 82 non-null     object\n",
            " 19  avg_temp                 82 non-null     object\n",
            " 20  min_wind_speed           82 non-null     object\n",
            " 21  avg_wind_speed           82 non-null     object\n",
            " 22  pollutant                82 non-null     object\n",
            "dtypes: object(23)\n",
            "memory usage: 14.9+ KB\n"
          ]
        }
      ]
    },
    {
      "cell_type": "code",
      "source": [
        "train6.rename(columns = {'DAYS FOG':'DAY WITH FOGS', 'FACILITY NAME':'facilityName', \"MainActivityCode\":'EPRTRAnnexIMainActivityCode', \n",
        "                        'YEAR':'reportingYear', 'COUNTRY':'countryName', 'targetRealase': 'targetRelease', 'CITY': \"City\"}, inplace = True)"
      ],
      "metadata": {
        "id": "3Q2RnKzPFEbo"
      },
      "execution_count": 55,
      "outputs": []
    },
    {
      "cell_type": "code",
      "source": [
        "train6.columns"
      ],
      "metadata": {
        "id": "u1VllZPiHYHN",
        "colab": {
          "base_uri": "https://localhost:8080/"
        },
        "outputId": "bdf66572-b898-4a59-bd2a-bcac05cefdf1"
      },
      "execution_count": 56,
      "outputs": [
        {
          "output_type": "execute_result",
          "data": {
            "text/plain": [
              "Index(['REPORT CONTAMINACIÓN nº', 'facilityName', 'FacilityInspireID',\n",
              "       'countryName', 'City', 'EPRTRSectorCode', 'EPRTRAnnexIMainActivityCode',\n",
              "       'targetRelease', 'emissions', 'DAY', 'max_wind_speed', 'max_temp',\n",
              "       'DAY WITH FOGS', 'REPORTER NAME', 'CONTINENT', 'MONTH', 'reportingYear',\n",
              "       'eprtrSectorName', 'min_temp', 'avg_temp', 'min_wind_speed',\n",
              "       'avg_wind_speed', 'pollutant'],\n",
              "      dtype='object')"
            ]
          },
          "metadata": {},
          "execution_count": 56
        }
      ]
    },
    {
      "cell_type": "code",
      "source": [
        "train6.shape"
      ],
      "metadata": {
        "id": "V0qoCKVAPOkV",
        "colab": {
          "base_uri": "https://localhost:8080/"
        },
        "outputId": "344cabf7-8939-4343-93f4-af47709635b4"
      },
      "execution_count": 57,
      "outputs": [
        {
          "output_type": "execute_result",
          "data": {
            "text/plain": [
              "(82, 23)"
            ]
          },
          "metadata": {},
          "execution_count": 57
        }
      ]
    },
    {
      "cell_type": "code",
      "source": [
        "train6.drop('REPORT CONTAMINACIÓN nº', axis=1, inplace=True)"
      ],
      "metadata": {
        "id": "_niUwkeaQnx1"
      },
      "execution_count": 58,
      "outputs": []
    },
    {
      "cell_type": "code",
      "source": [
        "train6 = train6.merge(activity_code, on='EPRTRAnnexIMainActivityCode')"
      ],
      "metadata": {
        "id": "voPTmCcLQnCd"
      },
      "execution_count": 59,
      "outputs": []
    },
    {
      "cell_type": "code",
      "source": [
        "train6['max_wind_speed'] = train6['max_wind_speed'].apply(lambda x: x.replace(\",\", \".\"))"
      ],
      "metadata": {
        "id": "aG1V9H9MWM3e"
      },
      "execution_count": 60,
      "outputs": []
    },
    {
      "cell_type": "code",
      "source": [
        "train6['max_wind_speed'] = train6['max_wind_speed'].astype(float)"
      ],
      "metadata": {
        "id": "Oy5RUyXdbEmM"
      },
      "execution_count": 61,
      "outputs": []
    },
    {
      "cell_type": "code",
      "source": [
        "train6['avg_wind_speed'] = train6['avg_wind_speed'].apply(lambda x: x.replace(\",\", \".\"))"
      ],
      "metadata": {
        "id": "IjKl3WivWNOB"
      },
      "execution_count": 62,
      "outputs": []
    },
    {
      "cell_type": "code",
      "source": [
        "train6['avg_wind_speed'] = train6['avg_wind_speed'].astype(float)"
      ],
      "metadata": {
        "id": "H5G4QKfBbFf9"
      },
      "execution_count": 63,
      "outputs": []
    },
    {
      "cell_type": "code",
      "source": [
        "train6['min_wind_speed'] = train6['min_wind_speed'].apply(lambda x: x.replace(\",\", \".\"))"
      ],
      "metadata": {
        "id": "eQK5KItoWNu8"
      },
      "execution_count": 64,
      "outputs": []
    },
    {
      "cell_type": "code",
      "source": [
        "train6['min_wind_speed'] = train6['min_wind_speed'].astype(float)"
      ],
      "metadata": {
        "id": "bldend0IbGQf"
      },
      "execution_count": 65,
      "outputs": []
    },
    {
      "cell_type": "code",
      "source": [
        "train6['max_temp'] = train6['max_temp'].apply(lambda x: x.replace(\",\", \".\"))"
      ],
      "metadata": {
        "id": "nVIPm0apWOCy"
      },
      "execution_count": 66,
      "outputs": []
    },
    {
      "cell_type": "code",
      "source": [
        "train6['max_temp'] = train6['max_temp'].astype(float)"
      ],
      "metadata": {
        "id": "PjTgaNKybHEg"
      },
      "execution_count": 67,
      "outputs": []
    },
    {
      "cell_type": "code",
      "source": [
        "train6['avg_temp'] = train6['avg_temp'].apply(lambda x: x.replace(\",\", \".\"))"
      ],
      "metadata": {
        "id": "jINxfperZjSt"
      },
      "execution_count": 68,
      "outputs": []
    },
    {
      "cell_type": "code",
      "source": [
        "train6['avg_temp'] = train6['avg_temp'].astype(float)"
      ],
      "metadata": {
        "id": "kVAHyJTIbH2Q"
      },
      "execution_count": 69,
      "outputs": []
    },
    {
      "cell_type": "code",
      "source": [
        "train6['min_temp'] = train6['min_temp'].apply(lambda x: x.replace(\",\", \".\"))"
      ],
      "metadata": {
        "id": "ff9gbQ9NaZ_H"
      },
      "execution_count": 70,
      "outputs": []
    },
    {
      "cell_type": "code",
      "source": [
        "train6['min_temp'] = train6['min_temp'].astype(float)"
      ],
      "metadata": {
        "id": "qrU5dWkQbI5D"
      },
      "execution_count": 71,
      "outputs": []
    },
    {
      "cell_type": "code",
      "source": [
        "df1 = pd.concat([df1,train6], axis=0)"
      ],
      "metadata": {
        "id": "GQ6yh6qHn7m5"
      },
      "execution_count": 72,
      "outputs": []
    },
    {
      "cell_type": "code",
      "source": [
        "df1.info()"
      ],
      "metadata": {
        "id": "ycjjQF6DqHuh",
        "colab": {
          "base_uri": "https://localhost:8080/"
        },
        "outputId": "46db7595-94ad-49ea-a4b6-e3891456962e"
      },
      "execution_count": 73,
      "outputs": [
        {
          "output_type": "stream",
          "name": "stdout",
          "text": [
            "<class 'pandas.core.frame.DataFrame'>\n",
            "Int64Index: 379078 entries, 0 to 350576\n",
            "Data columns (total 24 columns):\n",
            " #   Column                        Non-Null Count   Dtype \n",
            "---  ------                        --------------   ----- \n",
            " 0   CITY ID                       28501 non-null   object\n",
            " 1   CONTINENT                     379078 non-null  object\n",
            " 2   City                          379078 non-null  object\n",
            " 3   DAY                           379078 non-null  object\n",
            " 4   DAY WITH FOGS                 379078 non-null  object\n",
            " 5   EPRTRAnnexIMainActivityCode   379078 non-null  object\n",
            " 6   EPRTRAnnexIMainActivityLabel  379078 non-null  object\n",
            " 7   EPRTRSectorCode               379078 non-null  object\n",
            " 8   FacilityInspireID             379078 non-null  object\n",
            " 9   MONTH                         379078 non-null  object\n",
            " 10  REPORTER NAME                 379078 non-null  object\n",
            " 11  avg_temp                      379078 non-null  object\n",
            " 12  avg_wind_speed                379078 non-null  object\n",
            " 13  countryName                   379078 non-null  object\n",
            " 14  eprtrSectorName               379078 non-null  object\n",
            " 15  facilityName                  379078 non-null  object\n",
            " 16  max_temp                      379078 non-null  object\n",
            " 17  max_wind_speed                379078 non-null  object\n",
            " 18  min_temp                      379078 non-null  object\n",
            " 19  min_wind_speed                379078 non-null  object\n",
            " 20  pollutant                     379078 non-null  object\n",
            " 21  reportingYear                 379078 non-null  object\n",
            " 22  targetRelease                 379078 non-null  object\n",
            " 23  emissions                     350577 non-null  object\n",
            "dtypes: object(24)\n",
            "memory usage: 72.3+ MB\n"
          ]
        }
      ]
    },
    {
      "cell_type": "code",
      "source": [
        "df1 = df1.drop('emissions', axis=1)"
      ],
      "metadata": {
        "id": "OXU-Q1yKLg-5"
      },
      "execution_count": 74,
      "outputs": []
    },
    {
      "cell_type": "code",
      "source": [
        "df1.shape"
      ],
      "metadata": {
        "colab": {
          "base_uri": "https://localhost:8080/"
        },
        "id": "-Tke0H_aNZO_",
        "outputId": "fd3dd312-3afb-4d0b-d2c3-f37fdde45753"
      },
      "execution_count": 75,
      "outputs": [
        {
          "output_type": "execute_result",
          "data": {
            "text/plain": [
              "(379078, 23)"
            ]
          },
          "metadata": {},
          "execution_count": 75
        }
      ]
    },
    {
      "cell_type": "code",
      "source": [
        "df2.info()"
      ],
      "metadata": {
        "colab": {
          "base_uri": "https://localhost:8080/"
        },
        "id": "YV96JrZvOFuy",
        "outputId": "0dac97de-a7b1-4f5e-bbd2-d6a97b02d9b8"
      },
      "execution_count": 76,
      "outputs": [
        {
          "output_type": "stream",
          "name": "stdout",
          "text": [
            "<class 'pandas.core.frame.DataFrame'>\n",
            "Int64Index: 28559 entries, 0 to 9995\n",
            "Data columns (total 21 columns):\n",
            " #   Column                        Non-Null Count  Dtype  \n",
            "---  ------                        --------------  -----  \n",
            " 0   countryName                   28559 non-null  object \n",
            " 1   eprtrSectorName               28559 non-null  object \n",
            " 2   EPRTRAnnexIMainActivityLabel  28559 non-null  object \n",
            " 3   FacilityInspireID             28559 non-null  object \n",
            " 4   facilityName                  28559 non-null  object \n",
            " 5   City                          28559 non-null  object \n",
            " 6   targetRelease                 28559 non-null  object \n",
            " 7   pollutant                     28559 non-null  object \n",
            " 8   reportingYear                 28559 non-null  int64  \n",
            " 9   MONTH                         28559 non-null  int64  \n",
            " 10  DAY                           28559 non-null  int64  \n",
            " 11  CONTINENT                     28559 non-null  object \n",
            " 12  max_wind_speed                28559 non-null  float64\n",
            " 13  avg_wind_speed                28559 non-null  float64\n",
            " 14  min_wind_speed                28559 non-null  float64\n",
            " 15  max_temp                      28559 non-null  float64\n",
            " 16  avg_temp                      28559 non-null  float64\n",
            " 17  min_temp                      28559 non-null  float64\n",
            " 18  DAY WITH FOGS                 28559 non-null  int64  \n",
            " 19  REPORTER NAME                 28559 non-null  object \n",
            " 20  CITY ID                       28559 non-null  object \n",
            "dtypes: float64(6), int64(4), object(11)\n",
            "memory usage: 4.8+ MB\n"
          ]
        }
      ]
    },
    {
      "cell_type": "markdown",
      "source": [
        "# **Unificar las columnas**\n",
        "\n"
      ],
      "metadata": {
        "id": "l91eCI7SwARP"
      }
    },
    {
      "cell_type": "code",
      "source": [
        "df = pd.concat([df1,df2], axis=0)"
      ],
      "metadata": {
        "id": "DvtpNGcVOrJN"
      },
      "execution_count": 77,
      "outputs": []
    },
    {
      "cell_type": "code",
      "source": [
        "df.info()"
      ],
      "metadata": {
        "colab": {
          "base_uri": "https://localhost:8080/"
        },
        "id": "-_-jBnl_PzXC",
        "outputId": "eff503bf-1f0a-45b2-dd55-800265dfab17"
      },
      "execution_count": 78,
      "outputs": [
        {
          "output_type": "stream",
          "name": "stdout",
          "text": [
            "<class 'pandas.core.frame.DataFrame'>\n",
            "Int64Index: 407637 entries, 0 to 9995\n",
            "Data columns (total 23 columns):\n",
            " #   Column                        Non-Null Count   Dtype \n",
            "---  ------                        --------------   ----- \n",
            " 0   CITY ID                       57060 non-null   object\n",
            " 1   CONTINENT                     407637 non-null  object\n",
            " 2   City                          407637 non-null  object\n",
            " 3   DAY                           407637 non-null  object\n",
            " 4   DAY WITH FOGS                 407637 non-null  object\n",
            " 5   EPRTRAnnexIMainActivityCode   379078 non-null  object\n",
            " 6   EPRTRAnnexIMainActivityLabel  407637 non-null  object\n",
            " 7   EPRTRSectorCode               379078 non-null  object\n",
            " 8   FacilityInspireID             407637 non-null  object\n",
            " 9   MONTH                         407637 non-null  object\n",
            " 10  REPORTER NAME                 407637 non-null  object\n",
            " 11  avg_temp                      407637 non-null  object\n",
            " 12  avg_wind_speed                407637 non-null  object\n",
            " 13  countryName                   407637 non-null  object\n",
            " 14  eprtrSectorName               407637 non-null  object\n",
            " 15  facilityName                  407637 non-null  object\n",
            " 16  max_temp                      407637 non-null  object\n",
            " 17  max_wind_speed                407637 non-null  object\n",
            " 18  min_temp                      407637 non-null  object\n",
            " 19  min_wind_speed                407637 non-null  object\n",
            " 20  pollutant                     407637 non-null  object\n",
            " 21  reportingYear                 407637 non-null  object\n",
            " 22  targetRelease                 407637 non-null  object\n",
            "dtypes: object(23)\n",
            "memory usage: 74.6+ MB\n"
          ]
        }
      ]
    },
    {
      "cell_type": "code",
      "source": [
        "train0 = df"
      ],
      "metadata": {
        "id": "uMLc63A5sEva"
      },
      "execution_count": 79,
      "outputs": []
    },
    {
      "cell_type": "code",
      "source": [
        "test0 = pd.read_csv('test_x.csv')"
      ],
      "metadata": {
        "id": "X6GqMkMlvssA"
      },
      "execution_count": 80,
      "outputs": []
    },
    {
      "cell_type": "code",
      "source": [
        "test0.head()"
      ],
      "metadata": {
        "colab": {
          "base_uri": "https://localhost:8080/",
          "height": 461
        },
        "id": "haSB6zB835zZ",
        "outputId": "c4ef65d8-6a68-4545-a5fc-05732d229fb0"
      },
      "execution_count": 81,
      "outputs": [
        {
          "output_type": "execute_result",
          "data": {
            "text/plain": [
              "   test_index  countryName  EPRTRSectorCode                  eprtrSectorName  \\\n",
              "0           0       Poland                3                 Mineral industry   \n",
              "1           1   Luxembourg                5  Waste and wastewater management   \n",
              "2           2  Netherlands                1                    Energy sector   \n",
              "3           3       Sweden                5  Waste and wastewater management   \n",
              "4           4     Portugal                1                    Energy sector   \n",
              "\n",
              "  EPRTRAnnexIMainActivityCode  \\\n",
              "0                        3(a)   \n",
              "1                        5(d)   \n",
              "2                        1(c)   \n",
              "3                        5(d)   \n",
              "4                        1(c)   \n",
              "\n",
              "                        EPRTRAnnexIMainActivityLabel  \\\n",
              "0          Underground mining and related operations   \n",
              "1  Landfills (excluding landfills of inert waste ...   \n",
              "2  Thermal power stations and other combustion in...   \n",
              "3  Landfills (excluding landfills of inert waste ...   \n",
              "4  Thermal power stations and other combustion in...   \n",
              "\n",
              "            FacilityInspireID  \\\n",
              "0    PL.MŚ/000002357.FACILITY   \n",
              "1  LU.CAED/000012000.FACILITY   \n",
              "2      NL.EEA/212857.FACILITY   \n",
              "3   SE.CAED/10013901.Facility   \n",
              "4      PT.EEA/133926.FACILITY   \n",
              "\n",
              "                                        facilityName       City targetRelease  \\\n",
              "0  Polska Grupa Górnicza sp. z o.o. Oddział KWK R...  Rydułtowy           AIR   \n",
              "1                                              Sidec   Diekirch           AIR   \n",
              "2               Nuon Power Generation BV (Eemshaven)  Eemshaven           AIR   \n",
              "3                       HÖGBYTORPS AVFALLSANLÄGGNING        BRO           AIR   \n",
              "4  SPCG - Sociedade Portuguesa de Co-Geração Eléc...    SETÚBAL           AIR   \n",
              "\n",
              "   reportingYear  MONTH  DAY CONTINENT  max_wind_speed  avg_wind_speed  \\\n",
              "0           2017      8   16    EUROPE           14.08           14.86   \n",
              "1           2008     11   22    EUROPE           16.05           17.62   \n",
              "2           2014      9   19    EUROPE           13.65           15.54   \n",
              "3           2011      7   17    EUROPE           16.34           17.46   \n",
              "4           2010      6   23    EUROPE           21.52           20.53   \n",
              "\n",
              "   min_wind_speed  max_temp  avg_temp  min_temp  DAY WITH FOGS  \\\n",
              "0           18.47     10.28     11.38     13.48              1   \n",
              "1           22.62      6.63      8.84     13.42              0   \n",
              "2           17.82      5.67      8.40     11.28              2   \n",
              "3           19.96      6.16      7.57      9.44              2   \n",
              "4           21.62     10.96     11.55     12.62              2   \n",
              "\n",
              "      REPORTER NAME                           CITY ID  \n",
              "0     Brittany Buck  826b1de9dad293ae3e4f9cbaf6cf3420  \n",
              "1     Lauren Fisher  ed30a6667b40ba0a66198b3173e7353f  \n",
              "2    Linda Thompson  78e1082c3cfef3bdf3554da8d6afcc34  \n",
              "3  Bethany Mcmillan  27f959641950d381869d746d7d0e7d4e  \n",
              "4     Sarah Hoffman  1cb71655d9e0bd5cedb2320bf5fdd8f7  "
            ],
            "text/html": [
              "\n",
              "  <div id=\"df-4526f8a3-b5a2-4266-835d-4ca9bc1e4aa6\">\n",
              "    <div class=\"colab-df-container\">\n",
              "      <div>\n",
              "<style scoped>\n",
              "    .dataframe tbody tr th:only-of-type {\n",
              "        vertical-align: middle;\n",
              "    }\n",
              "\n",
              "    .dataframe tbody tr th {\n",
              "        vertical-align: top;\n",
              "    }\n",
              "\n",
              "    .dataframe thead th {\n",
              "        text-align: right;\n",
              "    }\n",
              "</style>\n",
              "<table border=\"1\" class=\"dataframe\">\n",
              "  <thead>\n",
              "    <tr style=\"text-align: right;\">\n",
              "      <th></th>\n",
              "      <th>test_index</th>\n",
              "      <th>countryName</th>\n",
              "      <th>EPRTRSectorCode</th>\n",
              "      <th>eprtrSectorName</th>\n",
              "      <th>EPRTRAnnexIMainActivityCode</th>\n",
              "      <th>EPRTRAnnexIMainActivityLabel</th>\n",
              "      <th>FacilityInspireID</th>\n",
              "      <th>facilityName</th>\n",
              "      <th>City</th>\n",
              "      <th>targetRelease</th>\n",
              "      <th>reportingYear</th>\n",
              "      <th>MONTH</th>\n",
              "      <th>DAY</th>\n",
              "      <th>CONTINENT</th>\n",
              "      <th>max_wind_speed</th>\n",
              "      <th>avg_wind_speed</th>\n",
              "      <th>min_wind_speed</th>\n",
              "      <th>max_temp</th>\n",
              "      <th>avg_temp</th>\n",
              "      <th>min_temp</th>\n",
              "      <th>DAY WITH FOGS</th>\n",
              "      <th>REPORTER NAME</th>\n",
              "      <th>CITY ID</th>\n",
              "    </tr>\n",
              "  </thead>\n",
              "  <tbody>\n",
              "    <tr>\n",
              "      <th>0</th>\n",
              "      <td>0</td>\n",
              "      <td>Poland</td>\n",
              "      <td>3</td>\n",
              "      <td>Mineral industry</td>\n",
              "      <td>3(a)</td>\n",
              "      <td>Underground mining and related operations</td>\n",
              "      <td>PL.MŚ/000002357.FACILITY</td>\n",
              "      <td>Polska Grupa Górnicza sp. z o.o. Oddział KWK R...</td>\n",
              "      <td>Rydułtowy</td>\n",
              "      <td>AIR</td>\n",
              "      <td>2017</td>\n",
              "      <td>8</td>\n",
              "      <td>16</td>\n",
              "      <td>EUROPE</td>\n",
              "      <td>14.08</td>\n",
              "      <td>14.86</td>\n",
              "      <td>18.47</td>\n",
              "      <td>10.28</td>\n",
              "      <td>11.38</td>\n",
              "      <td>13.48</td>\n",
              "      <td>1</td>\n",
              "      <td>Brittany Buck</td>\n",
              "      <td>826b1de9dad293ae3e4f9cbaf6cf3420</td>\n",
              "    </tr>\n",
              "    <tr>\n",
              "      <th>1</th>\n",
              "      <td>1</td>\n",
              "      <td>Luxembourg</td>\n",
              "      <td>5</td>\n",
              "      <td>Waste and wastewater management</td>\n",
              "      <td>5(d)</td>\n",
              "      <td>Landfills (excluding landfills of inert waste ...</td>\n",
              "      <td>LU.CAED/000012000.FACILITY</td>\n",
              "      <td>Sidec</td>\n",
              "      <td>Diekirch</td>\n",
              "      <td>AIR</td>\n",
              "      <td>2008</td>\n",
              "      <td>11</td>\n",
              "      <td>22</td>\n",
              "      <td>EUROPE</td>\n",
              "      <td>16.05</td>\n",
              "      <td>17.62</td>\n",
              "      <td>22.62</td>\n",
              "      <td>6.63</td>\n",
              "      <td>8.84</td>\n",
              "      <td>13.42</td>\n",
              "      <td>0</td>\n",
              "      <td>Lauren Fisher</td>\n",
              "      <td>ed30a6667b40ba0a66198b3173e7353f</td>\n",
              "    </tr>\n",
              "    <tr>\n",
              "      <th>2</th>\n",
              "      <td>2</td>\n",
              "      <td>Netherlands</td>\n",
              "      <td>1</td>\n",
              "      <td>Energy sector</td>\n",
              "      <td>1(c)</td>\n",
              "      <td>Thermal power stations and other combustion in...</td>\n",
              "      <td>NL.EEA/212857.FACILITY</td>\n",
              "      <td>Nuon Power Generation BV (Eemshaven)</td>\n",
              "      <td>Eemshaven</td>\n",
              "      <td>AIR</td>\n",
              "      <td>2014</td>\n",
              "      <td>9</td>\n",
              "      <td>19</td>\n",
              "      <td>EUROPE</td>\n",
              "      <td>13.65</td>\n",
              "      <td>15.54</td>\n",
              "      <td>17.82</td>\n",
              "      <td>5.67</td>\n",
              "      <td>8.40</td>\n",
              "      <td>11.28</td>\n",
              "      <td>2</td>\n",
              "      <td>Linda Thompson</td>\n",
              "      <td>78e1082c3cfef3bdf3554da8d6afcc34</td>\n",
              "    </tr>\n",
              "    <tr>\n",
              "      <th>3</th>\n",
              "      <td>3</td>\n",
              "      <td>Sweden</td>\n",
              "      <td>5</td>\n",
              "      <td>Waste and wastewater management</td>\n",
              "      <td>5(d)</td>\n",
              "      <td>Landfills (excluding landfills of inert waste ...</td>\n",
              "      <td>SE.CAED/10013901.Facility</td>\n",
              "      <td>HÖGBYTORPS AVFALLSANLÄGGNING</td>\n",
              "      <td>BRO</td>\n",
              "      <td>AIR</td>\n",
              "      <td>2011</td>\n",
              "      <td>7</td>\n",
              "      <td>17</td>\n",
              "      <td>EUROPE</td>\n",
              "      <td>16.34</td>\n",
              "      <td>17.46</td>\n",
              "      <td>19.96</td>\n",
              "      <td>6.16</td>\n",
              "      <td>7.57</td>\n",
              "      <td>9.44</td>\n",
              "      <td>2</td>\n",
              "      <td>Bethany Mcmillan</td>\n",
              "      <td>27f959641950d381869d746d7d0e7d4e</td>\n",
              "    </tr>\n",
              "    <tr>\n",
              "      <th>4</th>\n",
              "      <td>4</td>\n",
              "      <td>Portugal</td>\n",
              "      <td>1</td>\n",
              "      <td>Energy sector</td>\n",
              "      <td>1(c)</td>\n",
              "      <td>Thermal power stations and other combustion in...</td>\n",
              "      <td>PT.EEA/133926.FACILITY</td>\n",
              "      <td>SPCG - Sociedade Portuguesa de Co-Geração Eléc...</td>\n",
              "      <td>SETÚBAL</td>\n",
              "      <td>AIR</td>\n",
              "      <td>2010</td>\n",
              "      <td>6</td>\n",
              "      <td>23</td>\n",
              "      <td>EUROPE</td>\n",
              "      <td>21.52</td>\n",
              "      <td>20.53</td>\n",
              "      <td>21.62</td>\n",
              "      <td>10.96</td>\n",
              "      <td>11.55</td>\n",
              "      <td>12.62</td>\n",
              "      <td>2</td>\n",
              "      <td>Sarah Hoffman</td>\n",
              "      <td>1cb71655d9e0bd5cedb2320bf5fdd8f7</td>\n",
              "    </tr>\n",
              "  </tbody>\n",
              "</table>\n",
              "</div>\n",
              "      <button class=\"colab-df-convert\" onclick=\"convertToInteractive('df-4526f8a3-b5a2-4266-835d-4ca9bc1e4aa6')\"\n",
              "              title=\"Convert this dataframe to an interactive table.\"\n",
              "              style=\"display:none;\">\n",
              "        \n",
              "  <svg xmlns=\"http://www.w3.org/2000/svg\" height=\"24px\"viewBox=\"0 0 24 24\"\n",
              "       width=\"24px\">\n",
              "    <path d=\"M0 0h24v24H0V0z\" fill=\"none\"/>\n",
              "    <path d=\"M18.56 5.44l.94 2.06.94-2.06 2.06-.94-2.06-.94-.94-2.06-.94 2.06-2.06.94zm-11 1L8.5 8.5l.94-2.06 2.06-.94-2.06-.94L8.5 2.5l-.94 2.06-2.06.94zm10 10l.94 2.06.94-2.06 2.06-.94-2.06-.94-.94-2.06-.94 2.06-2.06.94z\"/><path d=\"M17.41 7.96l-1.37-1.37c-.4-.4-.92-.59-1.43-.59-.52 0-1.04.2-1.43.59L10.3 9.45l-7.72 7.72c-.78.78-.78 2.05 0 2.83L4 21.41c.39.39.9.59 1.41.59.51 0 1.02-.2 1.41-.59l7.78-7.78 2.81-2.81c.8-.78.8-2.07 0-2.86zM5.41 20L4 18.59l7.72-7.72 1.47 1.35L5.41 20z\"/>\n",
              "  </svg>\n",
              "      </button>\n",
              "      \n",
              "  <style>\n",
              "    .colab-df-container {\n",
              "      display:flex;\n",
              "      flex-wrap:wrap;\n",
              "      gap: 12px;\n",
              "    }\n",
              "\n",
              "    .colab-df-convert {\n",
              "      background-color: #E8F0FE;\n",
              "      border: none;\n",
              "      border-radius: 50%;\n",
              "      cursor: pointer;\n",
              "      display: none;\n",
              "      fill: #1967D2;\n",
              "      height: 32px;\n",
              "      padding: 0 0 0 0;\n",
              "      width: 32px;\n",
              "    }\n",
              "\n",
              "    .colab-df-convert:hover {\n",
              "      background-color: #E2EBFA;\n",
              "      box-shadow: 0px 1px 2px rgba(60, 64, 67, 0.3), 0px 1px 3px 1px rgba(60, 64, 67, 0.15);\n",
              "      fill: #174EA6;\n",
              "    }\n",
              "\n",
              "    [theme=dark] .colab-df-convert {\n",
              "      background-color: #3B4455;\n",
              "      fill: #D2E3FC;\n",
              "    }\n",
              "\n",
              "    [theme=dark] .colab-df-convert:hover {\n",
              "      background-color: #434B5C;\n",
              "      box-shadow: 0px 1px 3px 1px rgba(0, 0, 0, 0.15);\n",
              "      filter: drop-shadow(0px 1px 2px rgba(0, 0, 0, 0.3));\n",
              "      fill: #FFFFFF;\n",
              "    }\n",
              "  </style>\n",
              "\n",
              "      <script>\n",
              "        const buttonEl =\n",
              "          document.querySelector('#df-4526f8a3-b5a2-4266-835d-4ca9bc1e4aa6 button.colab-df-convert');\n",
              "        buttonEl.style.display =\n",
              "          google.colab.kernel.accessAllowed ? 'block' : 'none';\n",
              "\n",
              "        async function convertToInteractive(key) {\n",
              "          const element = document.querySelector('#df-4526f8a3-b5a2-4266-835d-4ca9bc1e4aa6');\n",
              "          const dataTable =\n",
              "            await google.colab.kernel.invokeFunction('convertToInteractive',\n",
              "                                                     [key], {});\n",
              "          if (!dataTable) return;\n",
              "\n",
              "          const docLinkHtml = 'Like what you see? Visit the ' +\n",
              "            '<a target=\"_blank\" href=https://colab.research.google.com/notebooks/data_table.ipynb>data table notebook</a>'\n",
              "            + ' to learn more about interactive tables.';\n",
              "          element.innerHTML = '';\n",
              "          dataTable['output_type'] = 'display_data';\n",
              "          await google.colab.output.renderOutput(dataTable, element);\n",
              "          const docLink = document.createElement('div');\n",
              "          docLink.innerHTML = docLinkHtml;\n",
              "          element.appendChild(docLink);\n",
              "        }\n",
              "      </script>\n",
              "    </div>\n",
              "  </div>\n",
              "  "
            ]
          },
          "metadata": {},
          "execution_count": 81
        }
      ]
    },
    {
      "cell_type": "code",
      "source": [
        "test0.info()"
      ],
      "metadata": {
        "colab": {
          "base_uri": "https://localhost:8080/"
        },
        "id": "kp4VV_h0JKdA",
        "outputId": "b053b9e8-7b6e-4f22-ed75-f5e8bb9d3354"
      },
      "execution_count": 82,
      "outputs": [
        {
          "output_type": "stream",
          "name": "stdout",
          "text": [
            "<class 'pandas.core.frame.DataFrame'>\n",
            "RangeIndex: 24480 entries, 0 to 24479\n",
            "Data columns (total 23 columns):\n",
            " #   Column                        Non-Null Count  Dtype  \n",
            "---  ------                        --------------  -----  \n",
            " 0   test_index                    24480 non-null  int64  \n",
            " 1   countryName                   24480 non-null  object \n",
            " 2   EPRTRSectorCode               24480 non-null  int64  \n",
            " 3   eprtrSectorName               24480 non-null  object \n",
            " 4   EPRTRAnnexIMainActivityCode   24480 non-null  object \n",
            " 5   EPRTRAnnexIMainActivityLabel  24480 non-null  object \n",
            " 6   FacilityInspireID             24480 non-null  object \n",
            " 7   facilityName                  24480 non-null  object \n",
            " 8   City                          24480 non-null  object \n",
            " 9   targetRelease                 24480 non-null  object \n",
            " 10  reportingYear                 24480 non-null  int64  \n",
            " 11  MONTH                         24480 non-null  int64  \n",
            " 12  DAY                           24480 non-null  int64  \n",
            " 13  CONTINENT                     24480 non-null  object \n",
            " 14  max_wind_speed                24480 non-null  float64\n",
            " 15  avg_wind_speed                24480 non-null  float64\n",
            " 16  min_wind_speed                24480 non-null  float64\n",
            " 17  max_temp                      24480 non-null  float64\n",
            " 18  avg_temp                      24480 non-null  float64\n",
            " 19  min_temp                      24480 non-null  float64\n",
            " 20  DAY WITH FOGS                 24480 non-null  int64  \n",
            " 21  REPORTER NAME                 24480 non-null  object \n",
            " 22  CITY ID                       24480 non-null  object \n",
            "dtypes: float64(6), int64(6), object(11)\n",
            "memory usage: 4.3+ MB\n"
          ]
        }
      ]
    },
    {
      "cell_type": "code",
      "source": [
        "target = train0['pollutant']\n",
        "\n",
        "train1 = train0.drop(['CITY ID','REPORTER NAME','EPRTRSectorCode', 'EPRTRAnnexIMainActivityCode', 'FacilityInspireID'], axis=1)\n",
        "test1 = test0.drop(['test_index', 'CITY ID', 'EPRTRSectorCode', 'EPRTRAnnexIMainActivityCode','FacilityInspireID', 'REPORTER NAME'], axis=1)"
      ],
      "metadata": {
        "id": "hoSk9ikcun2Y"
      },
      "execution_count": 83,
      "outputs": []
    },
    {
      "cell_type": "code",
      "source": [
        "target.value_counts()"
      ],
      "metadata": {
        "colab": {
          "base_uri": "https://localhost:8080/"
        },
        "id": "cJ9xUcws8GEP",
        "outputId": "225ce4d0-c952-4b3d-d112-1fe7d80f7db1"
      },
      "execution_count": 84,
      "outputs": [
        {
          "output_type": "execute_result",
          "data": {
            "text/plain": [
              "Methane (CH4)            223366\n",
              "Nitrogen oxides (NOX)     97371\n",
              "Carbon dioxide (CO2)      86900\n",
              "Name: pollutant, dtype: int64"
            ]
          },
          "metadata": {},
          "execution_count": 84
        }
      ]
    },
    {
      "cell_type": "code",
      "source": [
        "train1.info()"
      ],
      "metadata": {
        "colab": {
          "base_uri": "https://localhost:8080/"
        },
        "id": "4aUGua3yNvxz",
        "outputId": "4f71cf8e-5847-4a28-fab5-40902d624595"
      },
      "execution_count": 85,
      "outputs": [
        {
          "output_type": "stream",
          "name": "stdout",
          "text": [
            "<class 'pandas.core.frame.DataFrame'>\n",
            "Int64Index: 407637 entries, 0 to 9995\n",
            "Data columns (total 18 columns):\n",
            " #   Column                        Non-Null Count   Dtype \n",
            "---  ------                        --------------   ----- \n",
            " 0   CONTINENT                     407637 non-null  object\n",
            " 1   City                          407637 non-null  object\n",
            " 2   DAY                           407637 non-null  object\n",
            " 3   DAY WITH FOGS                 407637 non-null  object\n",
            " 4   EPRTRAnnexIMainActivityLabel  407637 non-null  object\n",
            " 5   MONTH                         407637 non-null  object\n",
            " 6   avg_temp                      407637 non-null  object\n",
            " 7   avg_wind_speed                407637 non-null  object\n",
            " 8   countryName                   407637 non-null  object\n",
            " 9   eprtrSectorName               407637 non-null  object\n",
            " 10  facilityName                  407637 non-null  object\n",
            " 11  max_temp                      407637 non-null  object\n",
            " 12  max_wind_speed                407637 non-null  object\n",
            " 13  min_temp                      407637 non-null  object\n",
            " 14  min_wind_speed                407637 non-null  object\n",
            " 15  pollutant                     407637 non-null  object\n",
            " 16  reportingYear                 407637 non-null  object\n",
            " 17  targetRelease                 407637 non-null  object\n",
            "dtypes: object(18)\n",
            "memory usage: 59.1+ MB\n"
          ]
        }
      ]
    },
    {
      "cell_type": "code",
      "source": [
        "test1.info()"
      ],
      "metadata": {
        "colab": {
          "base_uri": "https://localhost:8080/"
        },
        "id": "oWAE6eNyO0e8",
        "outputId": "0d509d52-3590-4fda-97fb-cec67c6ad062"
      },
      "execution_count": 86,
      "outputs": [
        {
          "output_type": "stream",
          "name": "stdout",
          "text": [
            "<class 'pandas.core.frame.DataFrame'>\n",
            "RangeIndex: 24480 entries, 0 to 24479\n",
            "Data columns (total 17 columns):\n",
            " #   Column                        Non-Null Count  Dtype  \n",
            "---  ------                        --------------  -----  \n",
            " 0   countryName                   24480 non-null  object \n",
            " 1   eprtrSectorName               24480 non-null  object \n",
            " 2   EPRTRAnnexIMainActivityLabel  24480 non-null  object \n",
            " 3   facilityName                  24480 non-null  object \n",
            " 4   City                          24480 non-null  object \n",
            " 5   targetRelease                 24480 non-null  object \n",
            " 6   reportingYear                 24480 non-null  int64  \n",
            " 7   MONTH                         24480 non-null  int64  \n",
            " 8   DAY                           24480 non-null  int64  \n",
            " 9   CONTINENT                     24480 non-null  object \n",
            " 10  max_wind_speed                24480 non-null  float64\n",
            " 11  avg_wind_speed                24480 non-null  float64\n",
            " 12  min_wind_speed                24480 non-null  float64\n",
            " 13  max_temp                      24480 non-null  float64\n",
            " 14  avg_temp                      24480 non-null  float64\n",
            " 15  min_temp                      24480 non-null  float64\n",
            " 16  DAY WITH FOGS                 24480 non-null  int64  \n",
            "dtypes: float64(6), int64(4), object(7)\n",
            "memory usage: 3.2+ MB\n"
          ]
        }
      ]
    },
    {
      "cell_type": "code",
      "source": [
        "data1 = pd.concat([train1, test1], axis=0).reset_index(drop=True)"
      ],
      "metadata": {
        "id": "K8Sh4axDQNpB"
      },
      "execution_count": 87,
      "outputs": []
    },
    {
      "cell_type": "code",
      "source": [
        "target['pollutant'] = df['pollutant'].map({'Methane (CH4)': 0, 'Nitrogen oxides (NOX)': 1, 'Carbon dioxide (CO2)': 2 }) "
      ],
      "metadata": {
        "id": "hz8DTDs-9ks-"
      },
      "execution_count": 88,
      "outputs": []
    },
    {
      "cell_type": "code",
      "source": [
        "data1.info()"
      ],
      "metadata": {
        "colab": {
          "base_uri": "https://localhost:8080/"
        },
        "id": "g_eiS4z5RIhA",
        "outputId": "a35504d0-afba-470e-8ff2-50455b46e116"
      },
      "execution_count": 89,
      "outputs": [
        {
          "output_type": "stream",
          "name": "stdout",
          "text": [
            "<class 'pandas.core.frame.DataFrame'>\n",
            "RangeIndex: 432117 entries, 0 to 432116\n",
            "Data columns (total 18 columns):\n",
            " #   Column                        Non-Null Count   Dtype \n",
            "---  ------                        --------------   ----- \n",
            " 0   CONTINENT                     432117 non-null  object\n",
            " 1   City                          432117 non-null  object\n",
            " 2   DAY                           432117 non-null  object\n",
            " 3   DAY WITH FOGS                 432117 non-null  object\n",
            " 4   EPRTRAnnexIMainActivityLabel  432117 non-null  object\n",
            " 5   MONTH                         432117 non-null  object\n",
            " 6   avg_temp                      432117 non-null  object\n",
            " 7   avg_wind_speed                432117 non-null  object\n",
            " 8   countryName                   432117 non-null  object\n",
            " 9   eprtrSectorName               432117 non-null  object\n",
            " 10  facilityName                  432117 non-null  object\n",
            " 11  max_temp                      432117 non-null  object\n",
            " 12  max_wind_speed                432117 non-null  object\n",
            " 13  min_temp                      432117 non-null  object\n",
            " 14  min_wind_speed                432117 non-null  object\n",
            " 15  pollutant                     407637 non-null  object\n",
            " 16  reportingYear                 432117 non-null  object\n",
            " 17  targetRelease                 432117 non-null  object\n",
            "dtypes: object(18)\n",
            "memory usage: 59.3+ MB\n"
          ]
        }
      ]
    },
    {
      "cell_type": "markdown",
      "metadata": {
        "cell_id": "771e344be48149ca9bd1da2adab15c79",
        "deepnote_cell_height": 62,
        "deepnote_cell_type": "markdown",
        "tags": [],
        "id": "zK4mr-H3MvqI"
      },
      "source": [
        "### Imputar datos"
      ]
    },
    {
      "cell_type": "code",
      "execution_count": 90,
      "metadata": {
        "cell_id": "1e71ded081e64c1ba999ef1f1945cdf2",
        "deepnote_cell_height": 81,
        "deepnote_cell_type": "code",
        "deepnote_to_be_reexecuted": false,
        "execution_millis": 551,
        "execution_start": 1653137199019,
        "source_hash": "1cfdba59",
        "tags": [],
        "id": "-Nqe9KIKMvqM"
      },
      "outputs": [],
      "source": [
        "data1.drop_duplicates(subset=None, keep='first', inplace=True)"
      ]
    },
    {
      "cell_type": "code",
      "source": [
        "data1.head()"
      ],
      "metadata": {
        "colab": {
          "base_uri": "https://localhost:8080/",
          "height": 513
        },
        "id": "uNKFmXsbSHPT",
        "outputId": "db1e9e12-f03b-45e4-b8a1-9368c240c8f8"
      },
      "execution_count": 91,
      "outputs": [
        {
          "output_type": "execute_result",
          "data": {
            "text/plain": [
              "  CONTINENT                 City DAY DAY WITH FOGS  \\\n",
              "0    EUROPE  Europoort Rotterdam   2             1   \n",
              "1    EUROPE                 RION   3             2   \n",
              "2    EUROPE                   --   1            12   \n",
              "3    EUROPE             DRIZZONA  17             1   \n",
              "4    EUROPE                Lünen   6             0   \n",
              "\n",
              "                        EPRTRAnnexIMainActivityLabel MONTH  \\\n",
              "0  Chemical installations for the production on a...     3   \n",
              "1  Installations for the production of cement cli...     2   \n",
              "2  Thermal power stations and other combustion in...     9   \n",
              "3  Installations for the intensive rearing of pou...    10   \n",
              "4  Installations for the recovery or disposal of ...     9   \n",
              "\n",
              "             avg_temp      avg_wind_speed     countryName  \\\n",
              "0  12.326234356831371   15.68645015581054     Netherlands   \n",
              "1   5.114688475007264  18.396179670690906          Greece   \n",
              "2  10.208837145825772   21.85621043510892  United Kingdom   \n",
              "3    9.50230163010951  19.195731394748613           Italy   \n",
              "4  11.585549635691075  18.277089492642343         Germany   \n",
              "\n",
              "                                  eprtrSectorName  \\\n",
              "0                               Chemical industry   \n",
              "1                                Mineral industry   \n",
              "2                                   Energy sector   \n",
              "3  Intensive livestock production and aquaculture   \n",
              "4                 Waste and wastewater management   \n",
              "\n",
              "                                        facilityName            max_temp  \\\n",
              "0                        Indorama Ventures Europe BV  13.256816011792559   \n",
              "1                  TITAN CEMENT S.A. - DREPANO PLANT   4.528859186447803   \n",
              "2                                    Cormorant Alpha  10.669132597893881   \n",
              "3  SOCIETA' AGRICOLA SPARAVALLE DI FERRARI GIUSEP...   7.095681595088376   \n",
              "4                       Biomassekraftwerk Lünen GmbH   9.886774464050356   \n",
              "\n",
              "       max_wind_speed            min_temp      min_wind_speed  \\\n",
              "0  11.019328717116156  14.696895445152332  20.899761591708206   \n",
              "1    14.5123950384412   9.219003402711184  23.243402867192145   \n",
              "2   20.26217117993502  14.715465115792192  23.956529199327292   \n",
              "3   18.28354666681811  13.582024001859644   26.69626609353847   \n",
              "4   13.75940846376134   14.00622637509683  24.768932565830674   \n",
              "\n",
              "               pollutant reportingYear targetRelease  \n",
              "0   Carbon dioxide (CO2)          2020           AIR  \n",
              "1  Nitrogen oxides (NOX)          2019           AIR  \n",
              "2  Nitrogen oxides (NOX)          2009           AIR  \n",
              "3          Methane (CH4)          2014           AIR  \n",
              "4   Carbon dioxide (CO2)          2015           AIR  "
            ],
            "text/html": [
              "\n",
              "  <div id=\"df-bf928e7f-64de-40b3-b322-2ba92451466e\">\n",
              "    <div class=\"colab-df-container\">\n",
              "      <div>\n",
              "<style scoped>\n",
              "    .dataframe tbody tr th:only-of-type {\n",
              "        vertical-align: middle;\n",
              "    }\n",
              "\n",
              "    .dataframe tbody tr th {\n",
              "        vertical-align: top;\n",
              "    }\n",
              "\n",
              "    .dataframe thead th {\n",
              "        text-align: right;\n",
              "    }\n",
              "</style>\n",
              "<table border=\"1\" class=\"dataframe\">\n",
              "  <thead>\n",
              "    <tr style=\"text-align: right;\">\n",
              "      <th></th>\n",
              "      <th>CONTINENT</th>\n",
              "      <th>City</th>\n",
              "      <th>DAY</th>\n",
              "      <th>DAY WITH FOGS</th>\n",
              "      <th>EPRTRAnnexIMainActivityLabel</th>\n",
              "      <th>MONTH</th>\n",
              "      <th>avg_temp</th>\n",
              "      <th>avg_wind_speed</th>\n",
              "      <th>countryName</th>\n",
              "      <th>eprtrSectorName</th>\n",
              "      <th>facilityName</th>\n",
              "      <th>max_temp</th>\n",
              "      <th>max_wind_speed</th>\n",
              "      <th>min_temp</th>\n",
              "      <th>min_wind_speed</th>\n",
              "      <th>pollutant</th>\n",
              "      <th>reportingYear</th>\n",
              "      <th>targetRelease</th>\n",
              "    </tr>\n",
              "  </thead>\n",
              "  <tbody>\n",
              "    <tr>\n",
              "      <th>0</th>\n",
              "      <td>EUROPE</td>\n",
              "      <td>Europoort Rotterdam</td>\n",
              "      <td>2</td>\n",
              "      <td>1</td>\n",
              "      <td>Chemical installations for the production on a...</td>\n",
              "      <td>3</td>\n",
              "      <td>12.326234356831371</td>\n",
              "      <td>15.68645015581054</td>\n",
              "      <td>Netherlands</td>\n",
              "      <td>Chemical industry</td>\n",
              "      <td>Indorama Ventures Europe BV</td>\n",
              "      <td>13.256816011792559</td>\n",
              "      <td>11.019328717116156</td>\n",
              "      <td>14.696895445152332</td>\n",
              "      <td>20.899761591708206</td>\n",
              "      <td>Carbon dioxide (CO2)</td>\n",
              "      <td>2020</td>\n",
              "      <td>AIR</td>\n",
              "    </tr>\n",
              "    <tr>\n",
              "      <th>1</th>\n",
              "      <td>EUROPE</td>\n",
              "      <td>RION</td>\n",
              "      <td>3</td>\n",
              "      <td>2</td>\n",
              "      <td>Installations for the production of cement cli...</td>\n",
              "      <td>2</td>\n",
              "      <td>5.114688475007264</td>\n",
              "      <td>18.396179670690906</td>\n",
              "      <td>Greece</td>\n",
              "      <td>Mineral industry</td>\n",
              "      <td>TITAN CEMENT S.A. - DREPANO PLANT</td>\n",
              "      <td>4.528859186447803</td>\n",
              "      <td>14.5123950384412</td>\n",
              "      <td>9.219003402711184</td>\n",
              "      <td>23.243402867192145</td>\n",
              "      <td>Nitrogen oxides (NOX)</td>\n",
              "      <td>2019</td>\n",
              "      <td>AIR</td>\n",
              "    </tr>\n",
              "    <tr>\n",
              "      <th>2</th>\n",
              "      <td>EUROPE</td>\n",
              "      <td>--</td>\n",
              "      <td>1</td>\n",
              "      <td>12</td>\n",
              "      <td>Thermal power stations and other combustion in...</td>\n",
              "      <td>9</td>\n",
              "      <td>10.208837145825772</td>\n",
              "      <td>21.85621043510892</td>\n",
              "      <td>United Kingdom</td>\n",
              "      <td>Energy sector</td>\n",
              "      <td>Cormorant Alpha</td>\n",
              "      <td>10.669132597893881</td>\n",
              "      <td>20.26217117993502</td>\n",
              "      <td>14.715465115792192</td>\n",
              "      <td>23.956529199327292</td>\n",
              "      <td>Nitrogen oxides (NOX)</td>\n",
              "      <td>2009</td>\n",
              "      <td>AIR</td>\n",
              "    </tr>\n",
              "    <tr>\n",
              "      <th>3</th>\n",
              "      <td>EUROPE</td>\n",
              "      <td>DRIZZONA</td>\n",
              "      <td>17</td>\n",
              "      <td>1</td>\n",
              "      <td>Installations for the intensive rearing of pou...</td>\n",
              "      <td>10</td>\n",
              "      <td>9.50230163010951</td>\n",
              "      <td>19.195731394748613</td>\n",
              "      <td>Italy</td>\n",
              "      <td>Intensive livestock production and aquaculture</td>\n",
              "      <td>SOCIETA' AGRICOLA SPARAVALLE DI FERRARI GIUSEP...</td>\n",
              "      <td>7.095681595088376</td>\n",
              "      <td>18.28354666681811</td>\n",
              "      <td>13.582024001859644</td>\n",
              "      <td>26.69626609353847</td>\n",
              "      <td>Methane (CH4)</td>\n",
              "      <td>2014</td>\n",
              "      <td>AIR</td>\n",
              "    </tr>\n",
              "    <tr>\n",
              "      <th>4</th>\n",
              "      <td>EUROPE</td>\n",
              "      <td>Lünen</td>\n",
              "      <td>6</td>\n",
              "      <td>0</td>\n",
              "      <td>Installations for the recovery or disposal of ...</td>\n",
              "      <td>9</td>\n",
              "      <td>11.585549635691075</td>\n",
              "      <td>18.277089492642343</td>\n",
              "      <td>Germany</td>\n",
              "      <td>Waste and wastewater management</td>\n",
              "      <td>Biomassekraftwerk Lünen GmbH</td>\n",
              "      <td>9.886774464050356</td>\n",
              "      <td>13.75940846376134</td>\n",
              "      <td>14.00622637509683</td>\n",
              "      <td>24.768932565830674</td>\n",
              "      <td>Carbon dioxide (CO2)</td>\n",
              "      <td>2015</td>\n",
              "      <td>AIR</td>\n",
              "    </tr>\n",
              "  </tbody>\n",
              "</table>\n",
              "</div>\n",
              "      <button class=\"colab-df-convert\" onclick=\"convertToInteractive('df-bf928e7f-64de-40b3-b322-2ba92451466e')\"\n",
              "              title=\"Convert this dataframe to an interactive table.\"\n",
              "              style=\"display:none;\">\n",
              "        \n",
              "  <svg xmlns=\"http://www.w3.org/2000/svg\" height=\"24px\"viewBox=\"0 0 24 24\"\n",
              "       width=\"24px\">\n",
              "    <path d=\"M0 0h24v24H0V0z\" fill=\"none\"/>\n",
              "    <path d=\"M18.56 5.44l.94 2.06.94-2.06 2.06-.94-2.06-.94-.94-2.06-.94 2.06-2.06.94zm-11 1L8.5 8.5l.94-2.06 2.06-.94-2.06-.94L8.5 2.5l-.94 2.06-2.06.94zm10 10l.94 2.06.94-2.06 2.06-.94-2.06-.94-.94-2.06-.94 2.06-2.06.94z\"/><path d=\"M17.41 7.96l-1.37-1.37c-.4-.4-.92-.59-1.43-.59-.52 0-1.04.2-1.43.59L10.3 9.45l-7.72 7.72c-.78.78-.78 2.05 0 2.83L4 21.41c.39.39.9.59 1.41.59.51 0 1.02-.2 1.41-.59l7.78-7.78 2.81-2.81c.8-.78.8-2.07 0-2.86zM5.41 20L4 18.59l7.72-7.72 1.47 1.35L5.41 20z\"/>\n",
              "  </svg>\n",
              "      </button>\n",
              "      \n",
              "  <style>\n",
              "    .colab-df-container {\n",
              "      display:flex;\n",
              "      flex-wrap:wrap;\n",
              "      gap: 12px;\n",
              "    }\n",
              "\n",
              "    .colab-df-convert {\n",
              "      background-color: #E8F0FE;\n",
              "      border: none;\n",
              "      border-radius: 50%;\n",
              "      cursor: pointer;\n",
              "      display: none;\n",
              "      fill: #1967D2;\n",
              "      height: 32px;\n",
              "      padding: 0 0 0 0;\n",
              "      width: 32px;\n",
              "    }\n",
              "\n",
              "    .colab-df-convert:hover {\n",
              "      background-color: #E2EBFA;\n",
              "      box-shadow: 0px 1px 2px rgba(60, 64, 67, 0.3), 0px 1px 3px 1px rgba(60, 64, 67, 0.15);\n",
              "      fill: #174EA6;\n",
              "    }\n",
              "\n",
              "    [theme=dark] .colab-df-convert {\n",
              "      background-color: #3B4455;\n",
              "      fill: #D2E3FC;\n",
              "    }\n",
              "\n",
              "    [theme=dark] .colab-df-convert:hover {\n",
              "      background-color: #434B5C;\n",
              "      box-shadow: 0px 1px 3px 1px rgba(0, 0, 0, 0.15);\n",
              "      filter: drop-shadow(0px 1px 2px rgba(0, 0, 0, 0.3));\n",
              "      fill: #FFFFFF;\n",
              "    }\n",
              "  </style>\n",
              "\n",
              "      <script>\n",
              "        const buttonEl =\n",
              "          document.querySelector('#df-bf928e7f-64de-40b3-b322-2ba92451466e button.colab-df-convert');\n",
              "        buttonEl.style.display =\n",
              "          google.colab.kernel.accessAllowed ? 'block' : 'none';\n",
              "\n",
              "        async function convertToInteractive(key) {\n",
              "          const element = document.querySelector('#df-bf928e7f-64de-40b3-b322-2ba92451466e');\n",
              "          const dataTable =\n",
              "            await google.colab.kernel.invokeFunction('convertToInteractive',\n",
              "                                                     [key], {});\n",
              "          if (!dataTable) return;\n",
              "\n",
              "          const docLinkHtml = 'Like what you see? Visit the ' +\n",
              "            '<a target=\"_blank\" href=https://colab.research.google.com/notebooks/data_table.ipynb>data table notebook</a>'\n",
              "            + ' to learn more about interactive tables.';\n",
              "          element.innerHTML = '';\n",
              "          dataTable['output_type'] = 'display_data';\n",
              "          await google.colab.output.renderOutput(dataTable, element);\n",
              "          const docLink = document.createElement('div');\n",
              "          docLink.innerHTML = docLinkHtml;\n",
              "          element.appendChild(docLink);\n",
              "        }\n",
              "      </script>\n",
              "    </div>\n",
              "  </div>\n",
              "  "
            ]
          },
          "metadata": {},
          "execution_count": 91
        }
      ]
    },
    {
      "cell_type": "code",
      "source": [
        "data1['pollutant'] = data1['pollutant'].map({'Methane (CH4)': 0, 'Nitrogen oxides (NOX)': 1, 'Carbon dioxide (CO2)': 2 }) "
      ],
      "metadata": {
        "id": "1CwNRSLtPefq"
      },
      "execution_count": 92,
      "outputs": []
    },
    {
      "cell_type": "code",
      "source": [
        "data1['DAY'] = data1['DAY'].astype(int)\n",
        "data1['DAY WITH FOGS'] = data1['DAY WITH FOGS'].astype(int)\n",
        "data1['MONTH'] = data1['MONTH'].astype(int)\n",
        "data1['avg_temp'] = data1['avg_temp'].astype(float)\n",
        "data1['avg_wind_speed'] = data1['avg_wind_speed'].astype(float)\n",
        "data1['max_temp'] = data1['max_temp'].astype(float)\n",
        "data1['max_wind_speed'] = data1['max_wind_speed'].astype(float)\n",
        "data1['min_temp'] = data1['min_temp'].astype(float)\n",
        "data1['min_wind_speed'] = data1['min_wind_speed'].astype(float)\n",
        "data1['reportingYear'] = data1['reportingYear'].astype(int)"
      ],
      "metadata": {
        "id": "PbRchOdyS1dY"
      },
      "execution_count": 93,
      "outputs": []
    },
    {
      "cell_type": "code",
      "source": [
        "data1 = pd.get_dummies(data1, columns=['CONTINENT', 'City', 'EPRTRAnnexIMainActivityLabel', 'countryName', 'eprtrSectorName', 'facilityName', 'targetRelease'])"
      ],
      "metadata": {
        "id": "Bbg4JG5GTQEY"
      },
      "execution_count": 94,
      "outputs": []
    },
    {
      "cell_type": "code",
      "source": [
        "data1.shape"
      ],
      "metadata": {
        "colab": {
          "base_uri": "https://localhost:8080/"
        },
        "id": "40B8k9b6Su08",
        "outputId": "81e0e1ee-08f9-4755-adde-3b6981c1fc65"
      },
      "execution_count": 95,
      "outputs": [
        {
          "output_type": "execute_result",
          "data": {
            "text/plain": [
              "(81622, 14149)"
            ]
          },
          "metadata": {},
          "execution_count": 95
        }
      ]
    },
    {
      "cell_type": "code",
      "source": [
        "data1 = data1.reset_index(drop=True)"
      ],
      "metadata": {
        "id": "oDskdMRqHM3o"
      },
      "execution_count": 96,
      "outputs": []
    },
    {
      "cell_type": "code",
      "source": [
        "train_final = data1.loc[:train0.index.max(), :].copy()\n",
        "test_final = data1.loc[train0.index.max() + 1:, :].reset_index(drop=True).copy()"
      ],
      "metadata": {
        "id": "TzRBTTDJHEZc"
      },
      "execution_count": 97,
      "outputs": []
    },
    {
      "cell_type": "code",
      "source": [
        "train_final.dropna(axis=0, inplace=True)"
      ],
      "metadata": {
        "id": "2OsOxCseZy5R"
      },
      "execution_count": 98,
      "outputs": []
    },
    {
      "cell_type": "code",
      "source": [
        "X = train_final.drop(['pollutant'], axis = 1)\n",
        "y = train_final['pollutant']"
      ],
      "metadata": {
        "id": "zAJyWFdiTpC_"
      },
      "execution_count": 99,
      "outputs": []
    },
    {
      "cell_type": "code",
      "source": [
        "X_train, X_test, y_train, y_test = train_test_split(X,y, test_size=0.2, random_state=1)"
      ],
      "metadata": {
        "id": "gfUc48blUFBt"
      },
      "execution_count": 100,
      "outputs": []
    },
    {
      "cell_type": "code",
      "source": [
        "y_train.value_counts()"
      ],
      "metadata": {
        "colab": {
          "base_uri": "https://localhost:8080/"
        },
        "id": "co6f2ij2Ytso",
        "outputId": "644536cb-aec3-4833-9252-c1093a0c62a2"
      },
      "execution_count": 101,
      "outputs": [
        {
          "output_type": "execute_result",
          "data": {
            "text/plain": [
              "1.00    18040\n",
              "2.00    16013\n",
              "0.00    11660\n",
              "Name: pollutant, dtype: int64"
            ]
          },
          "metadata": {},
          "execution_count": 101
        }
      ]
    },
    {
      "cell_type": "code",
      "source": [
        "sm = SMOTE(random_state=42)\n",
        "X_res, y_res = sm.fit_resample(X_train, y_train)"
      ],
      "metadata": {
        "id": "20btbNaTZcpF"
      },
      "execution_count": 102,
      "outputs": []
    },
    {
      "cell_type": "code",
      "source": [
        "pipelines = {\n",
        "    'rf': make_pipeline(RandomForestClassifier(random_state=42)),\n",
        "    'gb': make_pipeline(GradientBoostingClassifier(random_state=42)),\n",
        "    'l1': make_pipeline(StandardScaler(), LogisticRegression(penalty='l1', random_state= 1,solver='liblinear')),\n",
        "    'l2': make_pipeline(StandardScaler(), LogisticRegression(penalty='l2', random_state= 1,solver='liblinear')),\n",
        "    'dt': make_pipeline(DecisionTreeClassifier(random_state=42)),\n",
        "    'knn': make_pipeline(StandardScaler(), KNeighborsClassifier()),\n",
        "    'svc':make_pipeline(StandardScaler(),SVC(random_state=42))\n",
        "}"
      ],
      "metadata": {
        "id": "b5fDM1sCU2m-"
      },
      "execution_count": 103,
      "outputs": []
    },
    {
      "cell_type": "code",
      "source": [
        "for key, value in pipelines.items():\n",
        "    print(key, type(value))"
      ],
      "metadata": {
        "colab": {
          "base_uri": "https://localhost:8080/"
        },
        "id": "0Tjz4kLSU6YY",
        "outputId": "27e9a2c0-e976-4aec-83be-9c53d722de32"
      },
      "execution_count": 104,
      "outputs": [
        {
          "output_type": "stream",
          "name": "stdout",
          "text": [
            "rf <class 'sklearn.pipeline.Pipeline'>\n",
            "gb <class 'sklearn.pipeline.Pipeline'>\n",
            "l1 <class 'sklearn.pipeline.Pipeline'>\n",
            "l2 <class 'sklearn.pipeline.Pipeline'>\n",
            "dt <class 'sklearn.pipeline.Pipeline'>\n",
            "knn <class 'sklearn.pipeline.Pipeline'>\n",
            "svc <class 'sklearn.pipeline.Pipeline'>\n"
          ]
        }
      ]
    },
    {
      "cell_type": "code",
      "source": [
        "rf_hyperparameters = {\n",
        "    'randomforestclassifier__criterion':['entropy','gini'],\n",
        "    'randomforestclassifier__n_estimators': [100, 200, 300],\n",
        "    'randomforestclassifier__max_features': ['auto', 0.3, 0.6],\n",
        "    'randomforestclassifier__min_samples_split':[2,3,10],\n",
        "    'randomforestclassifier__min_samples_leaf':[1,3,10],\n",
        "    'randomforestclassifier__bootstrap':[True, False]\n",
        "}\n",
        "\n",
        "gb_hyperparameters = {\n",
        "    'gradientboostingclassifier__n_estimators':[100, 500, 100],\n",
        "    'gradientboostingclassifier__learning_rate': [0.001,0.01,0.1,0.05],\n",
        "    'gradientboostingclassifier__max_depth':[3, 5, 10]\n",
        "}\n",
        "\n",
        "l1_hyperparameters = {\n",
        "    'logisticregression__C': np.logspace(-3,3,7)\n",
        "}\n",
        "l2_hyperparameters = {\n",
        "    'logisticregression__C': np.logspace(-3,3,7)\n",
        "}\n",
        "dt_hyperparameters = {\n",
        "    \"decisiontreeclassifier__max_depth\" : [1,3,5,7],\n",
        "    'decisiontreeclassifier__criterion':['entropy','gini'],\n",
        "    'decisiontreeclassifier__splitter':['best']\n",
        "}\n",
        "\n",
        "knn_hyperparameters = {\n",
        "    \"kneighborsclassifier__n_neighbors\": np.arange(1,50),\n",
        "    \"kneighborsclassifier__weights\": [\"uniform\",\"distance\"]\n",
        "}\n",
        "svc_hyperparameters = {\n",
        "    'svc__C': [1.0,], \n",
        "    'svc__kernel': ['rbf',], \n",
        "    'svc__degree': [2,], \n",
        "    'svc__gamma' : [1.0,], \n",
        "    'svc__shrinking':[True,], \n",
        "    'svc__probability':[True,],\n",
        "    'svc__tol': [0.001,],\n",
        "    'svc__cache_size':[200,]\n",
        "}\n"
      ],
      "metadata": {
        "id": "6kvUQA-tU74U"
      },
      "execution_count": 105,
      "outputs": []
    },
    {
      "cell_type": "code",
      "source": [
        "hyperparameter_grids = {\n",
        "    'rf': rf_hyperparameters,\n",
        "    'gb': gb_hyperparameters,\n",
        "    'l1':l1_hyperparameters,\n",
        "    'l2':l2_hyperparameters,\n",
        "    'dt':dt_hyperparameters,\n",
        "    'knn': knn_hyperparameters,\n",
        "    'svc':svc_hyperparameters\n",
        "}"
      ],
      "metadata": {
        "id": "jF47o9nvVBJe"
      },
      "execution_count": 106,
      "outputs": []
    },
    {
      "cell_type": "code",
      "source": [
        "for key in ['rf', 'gb', 'l1', 'l2', 'dt', 'knn', 'svc']:\n",
        "    if key in hyperparameter_grids:\n",
        "        if type(hyperparameter_grids[key]) is dict:\n",
        "            print( key, 'was found, and it is a grid.' )\n",
        "        else:\n",
        "            print( key, 'was found, but it is not a grid.' )\n",
        "    else:\n",
        "        print( key, 'was not found')"
      ],
      "metadata": {
        "colab": {
          "base_uri": "https://localhost:8080/"
        },
        "id": "hjZLd-DoVIZg",
        "outputId": "f148a206-a971-410e-b20c-e6bad83696f9"
      },
      "execution_count": 107,
      "outputs": [
        {
          "output_type": "stream",
          "name": "stdout",
          "text": [
            "rf was found, and it is a grid.\n",
            "gb was found, and it is a grid.\n",
            "l1 was found, and it is a grid.\n",
            "l2 was found, and it is a grid.\n",
            "dt was found, and it is a grid.\n",
            "knn was found, and it is a grid.\n",
            "svc was found, and it is a grid.\n"
          ]
        }
      ]
    },
    {
      "cell_type": "code",
      "source": [
        "models = {}\n",
        "\n",
        "for key in pipelines.keys():\n",
        "    models[key]= GridSearchCV(pipelines[key], hyperparameter_grids[key], cv=5, scoring = 'f1_macro',\n",
        "                             n_jobs= -1,\n",
        "                             verbose = 1)\n",
        "    \n",
        "models.keys()"
      ],
      "metadata": {
        "colab": {
          "base_uri": "https://localhost:8080/"
        },
        "id": "TN9wfCE0VJsF",
        "outputId": "ea4b07f6-8860-44fd-9649-cb382eb87c89"
      },
      "execution_count": 110,
      "outputs": [
        {
          "output_type": "execute_result",
          "data": {
            "text/plain": [
              "dict_keys(['rf', 'gb', 'l1', 'l2', 'dt', 'knn', 'svc'])"
            ]
          },
          "metadata": {},
          "execution_count": 110
        }
      ]
    },
    {
      "cell_type": "code",
      "source": [
        "best_estimators = []\n",
        "\n",
        "for key in models.keys():\n",
        "    clf = models[key].fit(X_res,y_res)\n",
        "    best_estimators.append(clf.best_estimator_)\n",
        "    print(key, \"is trained and tuned\")\n",
        "    print('Method: {} Best: {}' .format(key,clf.best_estimator_))"
      ],
      "metadata": {
        "colab": {
          "base_uri": "https://localhost:8080/"
        },
        "id": "kH2AA244VR4D",
        "outputId": "d21f5a4d-16a5-4dc5-db1a-a5c2b472d1ed"
      },
      "execution_count": null,
      "outputs": [
        {
          "output_type": "stream",
          "name": "stdout",
          "text": [
            "Fitting 5 folds for each of 324 candidates, totalling 1620 fits\n"
          ]
        }
      ]
    },
    {
      "cell_type": "code",
      "source": [
        "for key in models.keys() :\n",
        "    pred = models[key].predict(X_test)\n",
        "    print(key)\n",
        "    print(\"Score del modelo (accuracy):\", round(models[key].score(X_test, y_test), 3))\n",
        "    print(\"Accuracy score:\", round(accuracy_score(pred, y_test), 3))\n",
        "    print(\"Recall score:\", round(recall_score(pred, y_test, average='macro'), 3))\n",
        "    print(\"Precision score:\", round(precision_score(pred, y_test, average='macro'), 3))\n",
        "    print(\"F1 score:\", round(f1_score(pred, y_test, average='macro'), 3))\n",
        "    print('---')"
      ],
      "metadata": {
        "id": "VE41VMH6VWYv"
      },
      "execution_count": null,
      "outputs": []
    },
    {
      "cell_type": "code",
      "source": [
        "from sklearn.ensemble import StackingClassifier\n",
        "from sklearn.neural_network import MLPClassifier"
      ],
      "metadata": {
        "id": "MmWi3_OxVaVa"
      },
      "execution_count": null,
      "outputs": []
    },
    {
      "cell_type": "code",
      "source": [
        "estimator_list = [('rf',best_estimators[0]),\n",
        "                                        ('gb',best_estimators[1]),\n",
        "                                        ('l1',best_estimators[2]),\n",
        "                                        ('l2',best_estimators[3]),\n",
        "                                        ('dt',best_estimators[4]),\n",
        "                                        ('knn', best_estimators[5]),\n",
        "                                        ('svc', best_estimators[6])\n",
        "                                       ]"
      ],
      "metadata": {
        "id": "yXG_1xFZVbjB"
      },
      "execution_count": null,
      "outputs": []
    },
    {
      "cell_type": "code",
      "source": [
        "stack_model = StackingClassifier(\n",
        "    estimators=estimator_list, final_estimator=MLPClassifier()\n",
        ")\n"
      ],
      "metadata": {
        "id": "It8cH9HEVgy5"
      },
      "execution_count": null,
      "outputs": []
    },
    {
      "cell_type": "code",
      "source": [
        "stacking_c = stack_model.fit(X_res,y_res)\n",
        "print(\"Score del modelo (accuracy):\", round(stacking_c.score(X_test, y_test), 3))\n",
        "print(\"Accuracy score:\", round(accuracy_score(stacking_c.predict(X_test), y_test), 3))\n",
        "print(\"Recall score:\", recall_score(stacking_c.predict(X_test), y_test, \n",
        "                                           average='macro'))\n",
        "print(\"Precision score:\", precision_score(stacking_c.predict(X_test), y_test, average='macro'))\n",
        "print(\"F1 score:\", f1_score(stacking_c.predict(X_test), y_test, average='macro'))"
      ],
      "metadata": {
        "id": "6eBE7XspV_XJ"
      },
      "execution_count": null,
      "outputs": []
    },
    {
      "cell_type": "code",
      "source": [
        "test_final['pollutant']= stacking_c.predict(test_final)"
      ],
      "metadata": {
        "id": "PnCqniYqWG8E"
      },
      "execution_count": null,
      "outputs": []
    },
    {
      "cell_type": "code",
      "source": [
        "test_final.head()"
      ],
      "metadata": {
        "id": "g8Z6z86XW2Fm"
      },
      "execution_count": null,
      "outputs": []
    },
    {
      "cell_type": "markdown",
      "source": [
        ""
      ],
      "metadata": {
        "id": "Yyrm5H2OOTCQ"
      }
    },
    {
      "cell_type": "markdown",
      "metadata": {
        "created_in_deepnote_cell": true,
        "deepnote_cell_type": "markdown",
        "tags": [],
        "id": "fZWGeAwCMvqM"
      },
      "source": [
        "<a style='text-decoration:none;line-height:16px;display:flex;color:#5B5B62;padding:10px;justify-content:end;' href='https://deepnote.com?utm_source=created-in-deepnote-cell&projectId=58d524ea-a1f6-4e66-a18d-4bc099b95b9f' target=\"_blank\">\n",
        "<img alt='Created in deepnote.com' style='display:inline;max-height:16px;margin:0px;margin-right:7.5px;' src='data:image/svg+xml;base64,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' > </img>\n",
        "Created in <span style='font-weight:600;margin-left:4px;'>Deepnote</span></a>"
      ]
    }
  ],
  "metadata": {
    "colab": {
      "collapsed_sections": [],
      "name": "2022_05_21_SE_Hackathon.ipynb",
      "provenance": [],
      "machine_shape": "hm",
      "include_colab_link": true
    },
    "deepnote": {},
    "deepnote_execution_queue": [],
    "deepnote_notebook_id": "46ca2022-d2f2-485a-adb5-67a1a7b97fba",
    "kernelspec": {
      "display_name": "Python 3 (ipykernel)",
      "language": "python",
      "name": "python3"
    },
    "language_info": {
      "codemirror_mode": {
        "name": "ipython",
        "version": 3
      },
      "file_extension": ".py",
      "mimetype": "text/x-python",
      "name": "python",
      "nbconvert_exporter": "python",
      "pygments_lexer": "ipython3",
      "version": "3.8.13"
    },
    "accelerator": "TPU"
  },
  "nbformat": 4,
  "nbformat_minor": 0
}